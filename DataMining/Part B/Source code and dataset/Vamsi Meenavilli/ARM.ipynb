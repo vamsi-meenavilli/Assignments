{
 "metadata": {
  "language_info": {
   "codemirror_mode": {
    "name": "ipython",
    "version": 3
   },
   "file_extension": ".py",
   "mimetype": "text/x-python",
   "name": "python",
   "nbconvert_exporter": "python",
   "pygments_lexer": "ipython3",
   "version": "3.8.1"
  },
  "orig_nbformat": 2,
  "kernelspec": {
   "name": "python381jvsc74a57bd0da21ab557e0157f8558cfc00a76cc1386e41836a396aa835dcb5e6b57bcf1a6c",
   "display_name": "Python 3.8.1 32-bit"
  }
 },
 "nbformat": 4,
 "nbformat_minor": 2,
 "cells": [
  {
   "cell_type": "code",
   "execution_count": 163,
   "metadata": {},
   "outputs": [],
   "source": [
    "# imports\n",
    "import pandas as pd\n",
    "import numpy as np\n",
    "import matplotlib.pyplot as plt\n",
    "from apyori import apriori\n",
    "import re\n",
    "import calendar\n",
    "import networkx as nx\n",
    "from pyvis.network import Network"
   ]
  },
  {
   "cell_type": "code",
   "execution_count": 164,
   "metadata": {},
   "outputs": [],
   "source": [
    "# Read csv file and make data frame\n",
    "df = pd.read_csv(r'C:\\Users\\mevamsi\\Documents\\BITS\\Data Mining\\Assignment\\data_mining1\\data\\clean_data.csv', error_bad_lines=False,low_memory=False)"
   ]
  },
  {
   "cell_type": "code",
   "execution_count": 165,
   "metadata": {},
   "outputs": [
    {
     "output_type": "execute_result",
     "data": {
      "text/plain": [
       "   Unnamed: 0  Patient Number Date Announced  Age Bracket Gender  \\\n",
       "0           0             1.0     30/01/2020         20.0      F   \n",
       "1           1             2.0     02/02/2020         -1.0      M   \n",
       "2           2             3.0     03/02/2020         -1.0      M   \n",
       "3           3             4.0     02/03/2020         45.0      M   \n",
       "4           4             5.0     02/03/2020         24.0      M   \n",
       "\n",
       "  Detected District Detected State Current Status  \\\n",
       "0          Thrissur         Kerala      Recovered   \n",
       "1         Alappuzha         Kerala      Recovered   \n",
       "2         Kasaragod         Kerala      Recovered   \n",
       "3        East Delhi          Delhi      Recovered   \n",
       "4         Hyderabad      Telangana      Recovered   \n",
       "\n",
       "                                               Notes Type of transmission  \\\n",
       "0                               Travelled from Wuhan             Imported   \n",
       "1                               Travelled from Wuhan             Imported   \n",
       "2                               Travelled from Wuhan             Imported   \n",
       "3                      Travelled from Austria, Italy             Imported   \n",
       "4  Travelled from Dubai to Bangalore on 20th Feb,...             Imported   \n",
       "\n",
       "                                            Source_1  \\\n",
       "0  https://twitter.com/vijayanpinarayi/status/122...   \n",
       "1  https://www.indiatoday.in/india/story/kerala-r...   \n",
       "2  https://www.indiatoday.in/india/story/kerala-n...   \n",
       "3  https://www.indiatoday.in/india/story/not-a-ja...   \n",
       "4  https://www.deccanherald.com/national/south/qu...   \n",
       "\n",
       "                                            Source_2  \\\n",
       "0  https://weather.com/en-IN/india/news/news/2020...   \n",
       "1  https://weather.com/en-IN/india/news/news/2020...   \n",
       "2  https://twitter.com/ANI/status/122422148580539...   \n",
       "3  https://economictimes.indiatimes.com/news/poli...   \n",
       "4  https://www.indiatoday.in/india/story/coronavi...   \n",
       "\n",
       "                                 Backup Notes AgeGroup  \n",
       "0                          Student from Wuhan    15-24  \n",
       "1                          Student from Wuhan    15-24  \n",
       "2                          Student from Wuhan    15-24  \n",
       "3         Travel history to Italy and Austria    45-54  \n",
       "4  Travel history to Dubai, Singapore contact    15-24  "
      ],
      "text/html": "<div>\n<style scoped>\n    .dataframe tbody tr th:only-of-type {\n        vertical-align: middle;\n    }\n\n    .dataframe tbody tr th {\n        vertical-align: top;\n    }\n\n    .dataframe thead th {\n        text-align: right;\n    }\n</style>\n<table border=\"1\" class=\"dataframe\">\n  <thead>\n    <tr style=\"text-align: right;\">\n      <th></th>\n      <th>Unnamed: 0</th>\n      <th>Patient Number</th>\n      <th>Date Announced</th>\n      <th>Age Bracket</th>\n      <th>Gender</th>\n      <th>Detected District</th>\n      <th>Detected State</th>\n      <th>Current Status</th>\n      <th>Notes</th>\n      <th>Type of transmission</th>\n      <th>Source_1</th>\n      <th>Source_2</th>\n      <th>Backup Notes</th>\n      <th>AgeGroup</th>\n    </tr>\n  </thead>\n  <tbody>\n    <tr>\n      <th>0</th>\n      <td>0</td>\n      <td>1.0</td>\n      <td>30/01/2020</td>\n      <td>20.0</td>\n      <td>F</td>\n      <td>Thrissur</td>\n      <td>Kerala</td>\n      <td>Recovered</td>\n      <td>Travelled from Wuhan</td>\n      <td>Imported</td>\n      <td>https://twitter.com/vijayanpinarayi/status/122...</td>\n      <td>https://weather.com/en-IN/india/news/news/2020...</td>\n      <td>Student from Wuhan</td>\n      <td>15-24</td>\n    </tr>\n    <tr>\n      <th>1</th>\n      <td>1</td>\n      <td>2.0</td>\n      <td>02/02/2020</td>\n      <td>-1.0</td>\n      <td>M</td>\n      <td>Alappuzha</td>\n      <td>Kerala</td>\n      <td>Recovered</td>\n      <td>Travelled from Wuhan</td>\n      <td>Imported</td>\n      <td>https://www.indiatoday.in/india/story/kerala-r...</td>\n      <td>https://weather.com/en-IN/india/news/news/2020...</td>\n      <td>Student from Wuhan</td>\n      <td>15-24</td>\n    </tr>\n    <tr>\n      <th>2</th>\n      <td>2</td>\n      <td>3.0</td>\n      <td>03/02/2020</td>\n      <td>-1.0</td>\n      <td>M</td>\n      <td>Kasaragod</td>\n      <td>Kerala</td>\n      <td>Recovered</td>\n      <td>Travelled from Wuhan</td>\n      <td>Imported</td>\n      <td>https://www.indiatoday.in/india/story/kerala-n...</td>\n      <td>https://twitter.com/ANI/status/122422148580539...</td>\n      <td>Student from Wuhan</td>\n      <td>15-24</td>\n    </tr>\n    <tr>\n      <th>3</th>\n      <td>3</td>\n      <td>4.0</td>\n      <td>02/03/2020</td>\n      <td>45.0</td>\n      <td>M</td>\n      <td>East Delhi</td>\n      <td>Delhi</td>\n      <td>Recovered</td>\n      <td>Travelled from Austria, Italy</td>\n      <td>Imported</td>\n      <td>https://www.indiatoday.in/india/story/not-a-ja...</td>\n      <td>https://economictimes.indiatimes.com/news/poli...</td>\n      <td>Travel history to Italy and Austria</td>\n      <td>45-54</td>\n    </tr>\n    <tr>\n      <th>4</th>\n      <td>4</td>\n      <td>5.0</td>\n      <td>02/03/2020</td>\n      <td>24.0</td>\n      <td>M</td>\n      <td>Hyderabad</td>\n      <td>Telangana</td>\n      <td>Recovered</td>\n      <td>Travelled from Dubai to Bangalore on 20th Feb,...</td>\n      <td>Imported</td>\n      <td>https://www.deccanherald.com/national/south/qu...</td>\n      <td>https://www.indiatoday.in/india/story/coronavi...</td>\n      <td>Travel history to Dubai, Singapore contact</td>\n      <td>15-24</td>\n    </tr>\n  </tbody>\n</table>\n</div>"
     },
     "metadata": {},
     "execution_count": 165
    }
   ],
   "source": [
    "# Data set Visualisation\n",
    "df.head(5)"
   ]
  },
  {
   "cell_type": "code",
   "execution_count": 166,
   "metadata": {},
   "outputs": [],
   "source": [
    "# Remove unnecessary columns\n",
    "df.drop(['Unnamed: 0', 'Patient Number', 'Age Bracket', 'Notes', 'Backup Notes', 'Type of transmission'], axis = 1, inplace = True)"
   ]
  },
  {
   "cell_type": "code",
   "execution_count": 167,
   "metadata": {},
   "outputs": [
    {
     "output_type": "execute_result",
     "data": {
      "text/plain": [
       "  Date Announced Gender Detected District Detected State Current Status  \\\n",
       "0     30/01/2020      F          Thrissur         Kerala      Recovered   \n",
       "1     02/02/2020      M         Alappuzha         Kerala      Recovered   \n",
       "2     03/02/2020      M         Kasaragod         Kerala      Recovered   \n",
       "3     02/03/2020      M        East Delhi          Delhi      Recovered   \n",
       "4     02/03/2020      M         Hyderabad      Telangana      Recovered   \n",
       "\n",
       "                                            Source_1  \\\n",
       "0  https://twitter.com/vijayanpinarayi/status/122...   \n",
       "1  https://www.indiatoday.in/india/story/kerala-r...   \n",
       "2  https://www.indiatoday.in/india/story/kerala-n...   \n",
       "3  https://www.indiatoday.in/india/story/not-a-ja...   \n",
       "4  https://www.deccanherald.com/national/south/qu...   \n",
       "\n",
       "                                            Source_2 AgeGroup  \n",
       "0  https://weather.com/en-IN/india/news/news/2020...    15-24  \n",
       "1  https://weather.com/en-IN/india/news/news/2020...    15-24  \n",
       "2  https://twitter.com/ANI/status/122422148580539...    15-24  \n",
       "3  https://economictimes.indiatimes.com/news/poli...    45-54  \n",
       "4  https://www.indiatoday.in/india/story/coronavi...    15-24  "
      ],
      "text/html": "<div>\n<style scoped>\n    .dataframe tbody tr th:only-of-type {\n        vertical-align: middle;\n    }\n\n    .dataframe tbody tr th {\n        vertical-align: top;\n    }\n\n    .dataframe thead th {\n        text-align: right;\n    }\n</style>\n<table border=\"1\" class=\"dataframe\">\n  <thead>\n    <tr style=\"text-align: right;\">\n      <th></th>\n      <th>Date Announced</th>\n      <th>Gender</th>\n      <th>Detected District</th>\n      <th>Detected State</th>\n      <th>Current Status</th>\n      <th>Source_1</th>\n      <th>Source_2</th>\n      <th>AgeGroup</th>\n    </tr>\n  </thead>\n  <tbody>\n    <tr>\n      <th>0</th>\n      <td>30/01/2020</td>\n      <td>F</td>\n      <td>Thrissur</td>\n      <td>Kerala</td>\n      <td>Recovered</td>\n      <td>https://twitter.com/vijayanpinarayi/status/122...</td>\n      <td>https://weather.com/en-IN/india/news/news/2020...</td>\n      <td>15-24</td>\n    </tr>\n    <tr>\n      <th>1</th>\n      <td>02/02/2020</td>\n      <td>M</td>\n      <td>Alappuzha</td>\n      <td>Kerala</td>\n      <td>Recovered</td>\n      <td>https://www.indiatoday.in/india/story/kerala-r...</td>\n      <td>https://weather.com/en-IN/india/news/news/2020...</td>\n      <td>15-24</td>\n    </tr>\n    <tr>\n      <th>2</th>\n      <td>03/02/2020</td>\n      <td>M</td>\n      <td>Kasaragod</td>\n      <td>Kerala</td>\n      <td>Recovered</td>\n      <td>https://www.indiatoday.in/india/story/kerala-n...</td>\n      <td>https://twitter.com/ANI/status/122422148580539...</td>\n      <td>15-24</td>\n    </tr>\n    <tr>\n      <th>3</th>\n      <td>02/03/2020</td>\n      <td>M</td>\n      <td>East Delhi</td>\n      <td>Delhi</td>\n      <td>Recovered</td>\n      <td>https://www.indiatoday.in/india/story/not-a-ja...</td>\n      <td>https://economictimes.indiatimes.com/news/poli...</td>\n      <td>45-54</td>\n    </tr>\n    <tr>\n      <th>4</th>\n      <td>02/03/2020</td>\n      <td>M</td>\n      <td>Hyderabad</td>\n      <td>Telangana</td>\n      <td>Recovered</td>\n      <td>https://www.deccanherald.com/national/south/qu...</td>\n      <td>https://www.indiatoday.in/india/story/coronavi...</td>\n      <td>15-24</td>\n    </tr>\n  </tbody>\n</table>\n</div>"
     },
     "metadata": {},
     "execution_count": 167
    }
   ],
   "source": [
    "# visualise data frame after removing columns\n",
    "df.head(5)"
   ]
  },
  {
   "cell_type": "code",
   "execution_count": 168,
   "metadata": {},
   "outputs": [
    {
     "output_type": "execute_result",
     "data": {
      "text/plain": [
       "         date gender    district      state     status  \\\n",
       "0  30/01/2020      F    Thrissur     Kerala  Recovered   \n",
       "1  02/02/2020      M   Alappuzha     Kerala  Recovered   \n",
       "2  03/02/2020      M   Kasaragod     Kerala  Recovered   \n",
       "3  02/03/2020      M  East Delhi      Delhi  Recovered   \n",
       "4  02/03/2020      M   Hyderabad  Telangana  Recovered   \n",
       "\n",
       "                                            source_1  \\\n",
       "0  https://twitter.com/vijayanpinarayi/status/122...   \n",
       "1  https://www.indiatoday.in/india/story/kerala-r...   \n",
       "2  https://www.indiatoday.in/india/story/kerala-n...   \n",
       "3  https://www.indiatoday.in/india/story/not-a-ja...   \n",
       "4  https://www.deccanherald.com/national/south/qu...   \n",
       "\n",
       "                                            source_2 age_group  \n",
       "0  https://weather.com/en-IN/india/news/news/2020...     15-24  \n",
       "1  https://weather.com/en-IN/india/news/news/2020...     15-24  \n",
       "2  https://twitter.com/ANI/status/122422148580539...     15-24  \n",
       "3  https://economictimes.indiatimes.com/news/poli...     45-54  \n",
       "4  https://www.indiatoday.in/india/story/coronavi...     15-24  "
      ],
      "text/html": "<div>\n<style scoped>\n    .dataframe tbody tr th:only-of-type {\n        vertical-align: middle;\n    }\n\n    .dataframe tbody tr th {\n        vertical-align: top;\n    }\n\n    .dataframe thead th {\n        text-align: right;\n    }\n</style>\n<table border=\"1\" class=\"dataframe\">\n  <thead>\n    <tr style=\"text-align: right;\">\n      <th></th>\n      <th>date</th>\n      <th>gender</th>\n      <th>district</th>\n      <th>state</th>\n      <th>status</th>\n      <th>source_1</th>\n      <th>source_2</th>\n      <th>age_group</th>\n    </tr>\n  </thead>\n  <tbody>\n    <tr>\n      <th>0</th>\n      <td>30/01/2020</td>\n      <td>F</td>\n      <td>Thrissur</td>\n      <td>Kerala</td>\n      <td>Recovered</td>\n      <td>https://twitter.com/vijayanpinarayi/status/122...</td>\n      <td>https://weather.com/en-IN/india/news/news/2020...</td>\n      <td>15-24</td>\n    </tr>\n    <tr>\n      <th>1</th>\n      <td>02/02/2020</td>\n      <td>M</td>\n      <td>Alappuzha</td>\n      <td>Kerala</td>\n      <td>Recovered</td>\n      <td>https://www.indiatoday.in/india/story/kerala-r...</td>\n      <td>https://weather.com/en-IN/india/news/news/2020...</td>\n      <td>15-24</td>\n    </tr>\n    <tr>\n      <th>2</th>\n      <td>03/02/2020</td>\n      <td>M</td>\n      <td>Kasaragod</td>\n      <td>Kerala</td>\n      <td>Recovered</td>\n      <td>https://www.indiatoday.in/india/story/kerala-n...</td>\n      <td>https://twitter.com/ANI/status/122422148580539...</td>\n      <td>15-24</td>\n    </tr>\n    <tr>\n      <th>3</th>\n      <td>02/03/2020</td>\n      <td>M</td>\n      <td>East Delhi</td>\n      <td>Delhi</td>\n      <td>Recovered</td>\n      <td>https://www.indiatoday.in/india/story/not-a-ja...</td>\n      <td>https://economictimes.indiatimes.com/news/poli...</td>\n      <td>45-54</td>\n    </tr>\n    <tr>\n      <th>4</th>\n      <td>02/03/2020</td>\n      <td>M</td>\n      <td>Hyderabad</td>\n      <td>Telangana</td>\n      <td>Recovered</td>\n      <td>https://www.deccanherald.com/national/south/qu...</td>\n      <td>https://www.indiatoday.in/india/story/coronavi...</td>\n      <td>15-24</td>\n    </tr>\n  </tbody>\n</table>\n</div>"
     },
     "metadata": {},
     "execution_count": 168
    }
   ],
   "source": [
    "# Rename the columns for ease of use\n",
    "df.columns = ['date', 'gender', 'district', 'state', 'status', 'source_1', 'source_2', 'age_group']\n",
    "df.head(5)"
   ]
  },
  {
   "cell_type": "code",
   "execution_count": 169,
   "metadata": {
    "tags": []
   },
   "outputs": [],
   "source": [
    "# Combine the source columns and shorten the url to domain and handle\n",
    "df['source'] = df['source_1']\n",
    "df['source'].fillna(df['source_2'], inplace = True)\n",
    "df.drop(['source_1', 'source_2'], axis = 1, inplace = True)\n",
    "\n",
    "def source_shortener(source):\n",
    "    shortened_source = []\n",
    "    for url in source:\n",
    "        domain = re.findall(r'^(?:.*:\\/\\/)?(?:www\\.)?([^:\\/]*).*$', str(url), re.M|re.I)[0]\n",
    "        if len(domain) <= 0:\n",
    "            domain = 'unknown'\n",
    "        if re.search(r'(twitter|facebook)', domain):\n",
    "            handle = re.findall(r'(?<=\\.com\\/)(.*?)(?=\\/)', url)\n",
    "            domain = re.sub('.com', '', domain)\n",
    "            if len(handle) > 0:\n",
    "                domain += ' @' + handle[0]\n",
    "            else:\n",
    "                domain += ' unknown'\n",
    "        shortened_source.append(domain)\n",
    "    return shortened_source\n",
    "\n",
    "df['source'] = source_shortener(df['source'])"
   ]
  },
  {
   "cell_type": "code",
   "execution_count": 170,
   "metadata": {},
   "outputs": [],
   "source": [
    "# Convert dates to month\n",
    "df['date'] = pd.to_datetime(df['date'])\n",
    "df['month'] = pd.DatetimeIndex(df['date']).month_name()\n",
    "df.drop(['date'], axis = 1, inplace = True)"
   ]
  },
  {
   "cell_type": "code",
   "execution_count": 171,
   "metadata": {
    "tags": []
   },
   "outputs": [
    {
     "output_type": "stream",
     "name": "stdout",
     "text": [
      "['F', 'M', 'Other']\n['Thrissur', 'Alappuzha', 'Kasaragod', 'East Delhi', 'Hyderabad', 'Italians', 'Agra', 'South West Delhi', 'Ghaziabad', 'West Delhi', 'Leh', 'Kancheepuram', 'Pathanamthitta', 'North Delhi', 'Jammu', 'Bengaluru Urban', 'Kannur', 'Pune', 'Amritsar', 'Ernakulam', 'Kottayam', 'Jaipur', 'Mumbai', 'Nagpur', 'S.P.S. Nellore', 'Lucknow', 'Kalaburagi', 'New Delhi', 'Thiruvananthapuram', 'Ahmednagar', 'Thane', 'Raigad', 'Yavatmal', 'Idukki', 'Aurangabad', 'Dehradun', 'Malappuram', 'Khordha', 'South Delhi', 'Gurugram', 'Kargil', 'Mahe', 'Gautam Buddha Nagar', 'Kolkata', 'Chennai', 'Ratnagiri', 'Srinagar', 'Jhunjhunu', 'North East Delhi', 'Chandigarh', 'Kodagu', 'Prakasam', 'Raipur', 'Lakhimpur Kheri', 'Shahid Bhagat Singh Nagar', 'Rajkot', 'Surat', 'Visakhapatnam', 'North West Delhi', 'S.A.S. Nagar', 'Ahmedabad', 'Vadodara', 'Bhilwara', 'Faridabad', 'Panipat', 'Kangra', 'Jabalpur', 'Karimnagar', nan, 'North 24 Parganas', 'Chikkaballapura', 'Panchkula', 'Gandhinagar', 'Moradabad', 'Erode', 'Hoshiarpur', 'Mysuru', 'Sonipat', 'Kutch', 'East Godavari', 'Krishna', 'Varanasi', 'Dharwad', 'Coimbatore', 'Munger', 'Patna', 'Bhopal', 'Bhadradri Kothagudem', 'Uttara Kannada', 'Kozhikode', 'Tirunelveli', 'Jodhpur', 'Pali', 'Sikar', 'Palghar', 'Other State', 'Palwal', 'Kanpur Nagar', 'Pilibhit', 'Pratapgarh', 'Tiruppur', 'Madurai', 'Jaunpur', 'Sangli', 'Satara', 'Imphal West', 'Chengalpattu', 'Ranga Reddy', 'Bandipora', 'Jalandhar', 'Palakkad', 'Chittoor', 'Indore', 'Ujjain', 'Gwalior', 'Aizawl', 'Salem', 'Udupi', 'Shivpuri', 'Chitradurga', 'Ludhiana', 'Pauri Garhwal', 'Rajnandgaon', 'Ranipet', 'Guntur', 'North Goa', 'Bilaspur', 'Durg', 'Baghpat', 'South Andaman', 'Medchal Malkajgiri', 'Wayanad', 'Rajouri', 'Sindhudurg', 'North and Middle Andaman', 'Siwan', 'Nalanda', 'Gondia', 'Dakshina Kannada', 'Tumakuru', 'Kollam', 'Kolhapur', 'Shamli', 'Davanagere', 'Nadia', 'Dungarpur', 'Churu', 'Mehsana', 'Thanjavur', 'Vellore', 'Ajmer', 'Virudhunagar', 'Purba Medinipur', 'Bhavnagar', 'Meerut', 'Kurnool', 'Kalimpong', 'Lakhisarai', 'Ambala', 'Jalgaon', 'Budgam', 'Baramulla', 'Buldhana', 'Porbandar', 'Gir Somnath', 'Bareilly', 'Hooghly', 'Nashik', 'Evacuees', 'Karur', 'Shopiyan', 'Bulandshahr', 'Alwar', 'Korba', 'Ballari', 'Gopalganj', 'Howrah', 'South 24 Parganas', 'Tiruvannamalai', 'Viluppuram', 'Anantapur', 'Ranchi', 'Sirsa', 'Cachar', 'Hisar', 'Namakkal', 'Kanyakumari', 'Thoothukkudi', 'Gaya', 'Bhadrak', 'Puducherry', 'West Godavari', 'Y.S.R. Kadapa', 'Begusarai', 'Kamrup Metropolitan', 'Basti', 'Theni', 'Dindigul', 'Sivaganga', 'Tirupathur', 'Thiruvarur', 'Panchmahal', 'Jorhat', 'Tonk', 'Goalpara', 'Imphal East', 'Lohit', 'Dholpur', 'Udaipur', 'Rohtak', 'Bidar', 'Bharatpur', 'Ramanathapuram', 'Thiruvallur', 'Hazaribagh', 'Chhindwara', 'Saran', 'Osmanabad', 'Una', 'Udham Singh Nagar', 'Bikaner', 'Bagalkote', 'Hardoi', 'Shahjahanpur', 'Firozabad', 'Azamgarh', 'Saharanpur', 'Hapur', 'Nuh', 'Cuttack', 'Dausa', 'Nagapattinam', 'Nalbari', 'South Salmara Mankachar', 'Udhampur', 'Patiala', 'Morena', 'Belagavi', 'Rajanna Sircilla', 'Khammam', 'Warangal Urban', 'Vikarabad', 'Suryapet', 'Siddipet', 'Sangareddy', 'Nizamabad', 'Karnal', 'Washim', 'Puri', 'Jajpur', 'Ghazipur', 'Kamrup', 'Morigaon', 'Hingoli', 'Golaghat', 'Banswara', 'Amravati', 'Patan', 'Rupnagar', 'Mansa', 'Lakhimpur', 'Bhiwani', 'Kaithal', 'Banda', 'Maharajganj', 'Nainital', 'Haridwar', 'Cuddalore', 'Kallakurichi', 'Perambalur', 'Tiruchirappalli', 'Pathankot', 'Faridkot', 'Bhagalpur', 'Hathras', 'Mirzapur', 'Khargone', 'Medak', 'Mahabubnagar', 'Mahabubabad', 'Kalahandi', 'Latur', 'Karauli', 'Solan', 'Chhota Udaipur', 'Bokaro', 'Bengaluru Rural', 'Barnala', 'Nilgiris', 'Nagaur', 'Barwani', 'Rae Bareli', 'Barabanki', 'Auraiya', 'Adilabad', 'Nirmal', 'Peddapalli', 'Jamnagar', 'Morbi', 'Jaisalmer', 'Jalna', 'Kota', 'Almora', 'Mathura', 'Budaun', 'Kaushambi', 'Bijnor', 'Prayagraj', 'Sitapur', 'Ariyalur', 'Charkhi Dadri', 'Fatehgarh Sahib', 'Kapurthala', 'Jagtial', 'Jogulamba Gadwal', 'Betul', 'Vidisha', 'Other Region', 'Kendrapara', 'Gomati', 'Chamba', 'Dhubri', 'Anand', 'Sabarkantha', 'Parbhani', 'Gadag', 'Mandya', 'Moga', 'Jind', 'Sheopur', 'Hailakandi', 'Fatehabad', 'Nalgonda', 'Nagarkurnool', 'Mulugu', 'Muzaffarnagar', 'Amroha', 'Rampur', 'Pulwama', 'Akola', 'Jhalawar', 'Nawada', 'Sirmaur', 'Barmer', 'Khandwa', 'Dhar', 'Dahod', 'Dhenkanal', 'Kupwara', 'Ganderbal', 'Tenkasi', 'Sri Muktsar Sahib', 'Sangrur', 'Kamareddy', 'Beed', 'Hoshangabad', 'Raisen', 'Dewas', 'Bharuch', 'Kulgam', 'Kishtwar', 'Samba', 'Sagar', 'Shajapur', 'North Tripura', 'Jayashankar Bhupalapally', 'Jangaon', 'Koderma', 'Bhadohi', 'Komaram Bheem', 'Ratlam', 'Mandsaur', 'Sundargarh', 'Vijayapura', 'Hanumangarh', 'Kurukshetra', 'Yamunanagar', 'Solapur', 'Banaskantha', 'Giridih', 'Kasganj', 'Etawah', 'Dhule', 'East Khasi Hills', 'Sambhal', 'Gurdaspur', 'Simdega', 'Tikamgarh', 'Botad', 'Kheda', 'Alirajpur', 'Agar Malwa', 'Narmada', 'Vaishali', 'Chandrapur', 'Buxar', 'Dhanbad', 'Aravalli', 'Unnao', 'Kannauj', 'Sant Kabir Nagar', 'Mainpuri', 'Mahisagar', 'Ferozepur', 'Gonda', 'Balasore', 'Anantnag', 'Nandurbar', 'Sawai Madhopur', 'Bhojpur', 'Mau', 'Pudukkottai', 'Deoghar', 'Etah', 'Sultanpur', 'Tapi', 'Valsad', 'Agar malwa', 'Rohtas', 'Kathua', 'Navsari', 'Aligarh', 'East Champaran', 'Banka', 'Nanded', 'Garhwa', 'Ramban', 'Dharmapuri', 'Dang', 'Bahraich', 'Balrampur', 'Shrawasti', 'Kaimur', 'Madhepura', 'Ayodhya', 'Rajsamand', 'Chittorgarh', 'Srikakulam', 'Arwal', 'Surendranagar', 'Palamu', 'Dindori', 'Jehanabad', 'Jalaun', 'Jamtara', 'Madhubani', 'Koraput', 'Darbhanga', 'Purnia', 'Jhajjar', 'Reasi', 'Jhansi', 'Gorakhpur', 'Harda', 'Tarn Taran', 'Bhandara', 'Bongaigaon', 'Araria', 'Sheikhpura', 'Burhanpur', 'Ashoknagar', 'Shahdol', 'Rewa', 'Sitamarhi', 'Surajpur', 'Kendujhar', 'Deogarh', 'Jharsuguda', 'West Champaran', 'Bathinda', 'Other state', 'Baran', 'Kanpur Dehat', 'Karimganj', 'Balangir', 'Katihar', 'Fazilka', 'Deoria', 'Godda', 'Anuppur', 'Siddharthnagar', 'Hamirpur', 'Dhalai', 'Mahoba', 'Katni', 'Ganjam', 'Sheohar', 'Devbhumi Dwarka', 'Niwari', 'Panna', 'Kabeerdham', 'Haveri', 'Samastipur', 'Mandi', 'Paschim Medinipur', 'Darjeeling', 'Malda', 'Birbhum', 'Purba Bardhaman', 'Paschim Bardhaman', 'Jalpaiguri', 'Murshidabad', 'Satna', 'mathura', 'Krishnagiri', 'Junagadh', 'Kushinagar', 'Amethi', 'Dadra and Nagar Haveli', 'Kokrajhar', 'Dumka', 'Jalore', 'Jagatsinghpur', 'Neemuch', 'Chitrakoot', 'BSF Camp', 'Mayurbhanj', 'Vizianagaram', 'Sirohi', 'Kishanganj', 'Mahendragarh', 'Shimla', 'Jhabua', 'Supaul', 'Saharsa', 'Khagaria', 'Sehore', 'Guna', 'Fatehpur', 'Nayagarh', 'Muzaffarpur', 'Rewari', 'Bhind', 'Lalitpur', 'Farrukhabad', 'Angul', 'Shivamogga', 'Uttar Dinajpur', 'Jhargram', 'Uttarkashi', 'Boudh', 'Karaikal', 'Sonbhadra', 'Mandla', 'Seoni', 'Ballia', 'Ambedkar Nagar', 'Wardha', 'East Singhbhum', 'Yadgir', 'Hassan', 'Kolar', 'Sidhi', 'Airport Quarantine', 'Jamui', 'Amreli', 'Latehar', 'Chandauli', 'South Goa', 'Balod', 'Datia', 'Damoh', 'Janjgir Champa', 'Koriya', 'Khowai', 'Umaria', 'Churachandpur', 'Sivasagar', 'Sonitpur', 'Sambalpur', 'Railway Quarantine', 'Dakshin Dinajpur', 'Punch', 'Ramgarh', 'Lohardaga', 'Baloda Bazar', 'Gariaband', 'Kandhamal', 'Raichur', 'Koppal', 'Doda', 'West Singhbhum', 'Surguja', 'Raigarh', 'Unassigned', 'Chikkamagaluru', 'Nagaon', 'Biswanath', 'Hojai', 'Bageshwar', 'Chamoli', 'Rajgarh', 'Singrauli', 'Gumla', 'Saraikela-Kharsawan', 'Gadchiroli', 'Malkangiri', 'Kullu', 'TENKASI', 'Chhatarpur', 'Tehri Garhwal', 'Ganganagar', 'West Garo Hills', 'Mungeli', 'Dibrugarh', 'Balaghat', 'Chatra', 'West Karbi Anglong', 'Darrang', 'Udalguri', 'Uttar Bastar Kanker', 'Sipahijala', 'Tinsukia', 'GAYA', 'Bametara', 'Nabarangapur', 'Gajapati', 'Dima Hasao', 'Pithoragarh', 'Champawat', 'Barpeta', 'South Sikkim', 'Bankura', 'Rudraprayag', 'Jashpur', 'Gaurela Pendra Marwahi', 'South Tripura', 'Unokoti', 'West Tripura', 'Chirang', 'Nuapada', 'Foreign Evacuees', 'Narsinghpur', 'Papum Pare', 'Dhemaji', 'Bargarh', 'Noney', 'Kohima', 'Dimapur', 'North Garo Hills', 'Ramanagara', 'Dhamtari', 'Subarnapur', 'bhagalpur', 'Karbi Anglong', 'chennai', 'CHENNAI', 'Narayanpet', 'Khunti', 'Pakur', 'Charaideo', 'Purulia', 'Bundi', 'NAWADA', 'AURANGABAD', 'BEGUSARAI', 'KHAGARIA', 'PATNA', 'GOPALGANJ', 'SUPAUL', 'SIWAN', 'Tuensang', 'Airport quarantine', 'Bastar', 'NALANDA', 'BHAGALPUR', 'KAIMUR', 'MUZAFFARPUR', 'EAST CHAMPARAN', 'VAISHALI', 'SARAN', 'BHOJPUR', 'ARWAL', 'Changlang', 'Mahasamund', 'South West Garo Hills', 'West Khasi Hills', 'Alipurduar', 'Kamjong', 'BIDAR', 'KARUR', 'Cooch Behar', 'Wanaparthy', 'Sahibganj', 'Chandel', 'Baksa', 'Ukhrul', 'Thoubal', 'other State', 'chengalpattu', 'MADURAI', 'Yadadri Bhuvanagiri', 'gaya', 'Senapati', 'Bishnupur', 'Tawang', 'Namsai', 'Upper Siang', 'Mancherial', 'Pakke Kessang', 'Rayagada', 'West Jaintia Hills', 'Kinnaur', 'East Sikkim', 'Tamenglong', 'Kakching', 'Tengnoupal', 'Lunglei', 'Mamit', 'Saitual', 'Kangpokpi', 'surat', 'Peren', 'West Siang', 'Pherzawl', 'Kiphire', 'Mon', 'Phek', 'Wokha', 'kutch', 'East Siang', 'Lawngtlai', 'Majuli', 'vadodara', 'surendranagar', 'dahod', 'Champhai', 'Khawzawl', 'Saiha', 'Zunheboto', 'Lower Dibang Valley', 'Tirap', 'Others', 'Kolasib', 'Ribhoi', 'Chamarajanagara', 'West Sikkim', 'Warangal Rural', 'ujjain', 'dewas', 'dhar', 'bhind', 'bhopal', 'khargone', 'sheopur', 'vidisha', 'Serchhip', 'Kondagaon', 'Longding', 'West Kameng', 'Daman', 'Dakshin Bastar Dantewada', 'Diu', 'Narayanpur', 'Lower Siang', 'Jiribam']\n['Kerala', 'Delhi', 'Telangana', 'Rajasthan', 'Haryana', 'Uttar Pradesh', 'Ladakh', 'Tamil Nadu', 'Jammu and Kashmir', 'Karnataka', 'Maharashtra', 'Punjab', 'Andhra Pradesh', 'Uttarakhand', 'Odisha', 'Puducherry', 'West Bengal', 'Chandigarh', 'Chhattisgarh', 'Gujarat', 'Himachal Pradesh', 'Madhya Pradesh', 'Bihar', 'Manipur', 'Mizoram', 'Goa', 'Andaman and Nicobar Islands', 'Jharkhand', 'Assam', 'Arunachal Pradesh', 'Tripura', 'Meghalaya', 'Dadra and Nagar Haveli and Daman and Diu', 'State Unassigned', 'Sikkim', 'Nagaland']\n['Recovered', 'Hospitalized', 'Deceased', 'Migrated']\n['15-24', '45-54', '65-74', '55-64', '25-34', '35-44', '75+', '1-4', '5-14', '< 1']\n['twitter @vijayanpinarayi', 'indiatoday.in', 'deccanherald.com', 'indianexpress.com', 'businesstoday.in', 'hindustantimes.com', 'timesofindia.indiatimes.com', 'firstpost.com', 'livemint.com', 'english.mathrubhumi.com', 'facebook @collectorkottayam', 'thehindu.com', 'newindianexpress.com', 'health.delhigovt.nic.in', 'english.manoramaonline.com', 'ndtv.com', 'indiatvnews.com', 'twitter @ANI', 'economictimes.indiatimes.com', 'twitter @timesofindia', 'businessinsider.in', 'mumbaimirror.indiatimes.com', 'twitter unknown', 'thenewsminute.com', 'twitter @airnewsalerts', 'twitter @sriramulubjp', 'twitter @PTI_News', 'mobile.twitter @ANINewsUP', 'twitter @aninewsup', 'twitter @Vijayabaskarofl', 'epaper.hindustantimes.com', 'twitter @pti_news', 'twitter @ANINewsUP', 'twitter @vijayabaskarofl', 'ahmedabadmirror.indiatimes.com', 'arogya.maharashtra.gov.in', 'twitter @IPRTelangana', 'twitter @HFWOdisha', 'mobile.twitter @PIBJaipur', 'twitter @xpressandhra', 'youtube.com', 'mohfw.gov.in', 'jagran.com', 'twitter @PIBJaipur', 'twitter @GujHFWDept', 'twitter @zeerajasthan_', 'nhmharyana.gov.in', 'twitter @TelanganaHealth', 'twitter @timesnow', 'm.hindustantimes.com', 'nan', 'babushahi.com', 'kannada.asianetnews.com', 'twitter @THAndhra', 'twitter @TOIHyderabad', 'twitter @htTweets', 'dbpost.com', 'twitter @THHyderabad', 'State Health Bulletin - 22nd March', 'mobile.twitter @PTI_News', 'twitter @abpanandatv', 'twitter @TimesNow', 'twitter @ani', 'bhaskar.com', 'twitter @ArvindKejriwal', 'amarujala.com', 'dronamaps.com', 'twitter @ArogyaAndhra', 'twitter @the_hindu', 'english.varthabharati.in', 'State Health Bulletion - 24th Mar 8am', 'manoramanews.com', 'twitter @BBMPCOMM', 'P56', 'twitter @RishikaSadam', 'twitter @MoHFW_GUJARAT', 'twitter @rajeshtope11', 'twitter @kansalrohit69', 'twitter @diprjk', 'twitter @EconomicTimes', 'twitter @DHFWKA', 'outlookindia.com', 'UT Health Bulletin', 'stopcorona.tn.gov.in', 'twitter @xpresskerala', 'stopcoronatn.in', 'gujcovid19.gujarat.gov.in', 'twitter @CMODelhi', 'twitter @ChetanSanghi', 'twitter @NHM_TN', 'twitter @IEBengaluru', 'karunadu.karnataka.gov.in', 'wbhealth.gov.in', 'ptinews.com', 'State bulletin', 'Press Bulletin', 'twitter @IPRD_Bihar', 'mobile.twitter @ANI', 'business-standard.com', 'twitter @PIBTvpm', 'Gujarat Dashboard', 'hmfw.ap.gov.in', 'twitter @sanjayjavin', 'tribuneindia.com', 'twitter @TOINoida', 'covid19.telangana.gov.in', 'twitter @kbssidhu1961', 't.me', 'State Bulletin', 'twitter @himantabiswa', 'twitter @vpsbadnore', 'twitter @Eatala_Rajender', 'twitter @PemaKhanduBJP', 'rajswasthya.nic.in', 'twitter @ians_india', 'twitter @JansamparkMP', 'jipmer.edu.in', 'dhs.kerala.gov.in', 'twitter @visrane', 'sakaltimes.com', 'facebook unknown', 'UP State bulletin', 'UT Bulletin, 6th Apr upto 3PM', 'State Bulletin, 6th Apr 8AM', 'State Bulletin, 6th Apr', \"CM's Meet\", 'twitter @BjpBiplab', 'twitter @mybmc', 'twitter @PIBAhmedabad', 'twitter @nhm_hp', 'twitter @IPR_Odisha', 'covid.ladakh.gov.in', 'chdcovid19.in', 'health.odisha.gov.in', 'facebook @CollectorKNR', 'cghealth.nic.in', 'twitter @ladags', 'twitter @PIBShillong', 'twitter @SangmaConrad', 'twitter @UPGovt', 'twitter @ipskabra', 'twitter @dc_dhanbad', 'mobile.twitter @SangmaConrad', 'twitter @RanchiPIB', 'nrhmhp.gov.in', 'twitter @CMofKarnataka', 'twitter @mhfwgovuk', 'twitter @TS_SinghDeo', 'facebook @diokottayam', 'facebook @dckollam', 'twitter @THMumbai', 'twitter @mla_sudhakar', 'covid19dashboard.py.gov.in', 'facebook @UKMedicalHealth', 'twitter @ipr_odisha', 'twitter @avinashkalla', 'twitter @PIBHyderabad', 'twitter @ddnewsshillong', 'covid19.karnataka.gov.in', 'punekarnews.in', 'twitter @CollectorDnh', 'mcovid19.mizoram.gov.in', 'covid19-phdmah.hub.arcgis.com', 'twitter @BiharHealthDept', 'experience.arcgis.com', 'twitter @samasyasmadhan', 'twitter @PIB_Patna', 'covid19.assam.gov.in', 'phdmah.maps.arcgis.com', 'twitter @AHindinews', 'twitter @RobRanchi', 'twitter @SHSBihar', 'deshgujarat.com', 'twitter @healthminmp', 'twitter @bhupeshbaghel', 'health.uk.gov.in', 'twitter @wbdhfw', 'thewire.in', 'twitter @nhm_assam', 'pbhealth.gov.in', 'covid19.tripura.gov.in', 'twitter @DnhPublicity', 'statedashboard.odisha.gov.in', 'facebook @wayanadWE', 'twitter @arogyaandhra', 'twitter @airnews_ranchi', 'hpkangra.nic.in', 'twitter @DrPramodPSawant', 'twitter @mangalpandeybjp', 'drive.google.com', 'twitter @DHS_Goa', 'twitter @airnews_imphal', 'twitter @prudentgoa', 'twitter @aiims_rpr', 'covid19.ap.gov.in', 'mckgc.ap.gov.in', 'twitter @pondicherryinfo', 'twitter @PriyankaJShukla', 'twitter @Himanshu5179', 'twitter @KhagariaDm', 'twitter @FobGumla', 'twitter @airnews_jaipur', 'twitter @UdaySinghKumawt', 'twitter @jayeshn143', 'twitter @chd_diaries', 'twitter @Asylumseeker00', 'twitter @CMOFFICEHP', 'twitter @nagarkoti', 'twitter @HealthCgGov', 'twitter @MyGovNagaland', 'twitter @PIBDehradun', 'twitter @pangnyu', 'twitter @ChandigarhBytes', 'twitter @VermaArthitpv', 'twitter @DiprManipur', 'covid19.itanagarsmartcity.in', 'twitter @mygovtripura', 'twitter @DirectorateofHS', 'twitter @ZoramthangaCM', 'arunachal24.in', 'twitter @SandeepSingh_me', 'twitter @DIPR_Leh', 'twitter @dipr_mizoram', 'twitter @FOBGumla', 'covid19.nagaland.gov.in', 'twitter @PuducherryFOB', 'covid19sikkim.org', 'twitter @DDNewsShimla', 'facebook @thesikkimtoday', 'twitter @UKMedicalHealth', 'twitter @dipr_nagaland', 'twitter @airnews_gangtok', 'twitter @HealthNagaland', 'facebook @kkshailaja', 'dddcovid19.in', 'twitter @radionews_kargi', 'mobile.twitter @IPRTelangana', 'm.timesofindia.com', 'news18.com', 'mphealthresponse.nhmmp.gov.in', 'twitter @DDNewsRajasthan', 'twitter @sikkimgovt', 'eastmojo.com']\n['January', 'February', 'March', 'April', 'May', 'June', 'July', 'August', 'September', 'October', 'November', 'December']\n"
     ]
    }
   ],
   "source": [
    "# Skimming through the data for outliers\n",
    "for i in df.columns:\n",
    "    print(df[i].unique().tolist())"
   ]
  },
  {
   "cell_type": "code",
   "execution_count": 172,
   "metadata": {},
   "outputs": [
    {
     "output_type": "execute_result",
     "data": {
      "text/plain": [
       "0            Thrissur\n",
       "1           Alappuzha\n",
       "2           Kasaragod\n",
       "3          East Delhi\n",
       "4           Hyderabad\n",
       "             ...     \n",
       "99930         Pulwama\n",
       "99931           Reasi\n",
       "99932        Kishtwar\n",
       "99933     East Sikkim\n",
       "99934    South Sikkim\n",
       "Name: district, Length: 99935, dtype: object"
      ]
     },
     "metadata": {},
     "execution_count": 172
    }
   ],
   "source": [
    "# District has value italians, so remove it\n",
    "df['district'].replace(to_replace = ['Italians'], value = np.NaN)"
   ]
  },
  {
   "cell_type": "code",
   "execution_count": 173,
   "metadata": {},
   "outputs": [
    {
     "output_type": "stream",
     "name": "stdout",
     "text": [
      "gender\t0\ndistrict\t7720\nstate\t0\nstatus\t0\nage_group\t0\nsource\t0\nmonth\t0\n"
     ]
    }
   ],
   "source": [
    "# Visualise null column values\n",
    "for i in df.columns:\n",
    "    print(i, df[i].isnull().sum(), sep = \"\\t\")"
   ]
  },
  {
   "cell_type": "code",
   "execution_count": 174,
   "metadata": {},
   "outputs": [
    {
     "output_type": "stream",
     "name": "stdout",
     "text": [
      "0\n"
     ]
    }
   ],
   "source": [
    "# Fill the district null values with the mode value of the state\n",
    "districtstatemap = {i : df[df['state'] == i].mode().district[0] for i in df['state'].unique().tolist()}\n",
    "df['district'] = df['district'].fillna(df['state'].map(districtstatemap))\n",
    "print(df['district'].isnull().sum())"
   ]
  },
  {
   "cell_type": "code",
   "execution_count": 175,
   "metadata": {},
   "outputs": [
    {
     "output_type": "execute_result",
     "data": {
      "text/plain": [
       "  gender    district      state     status age_group  \\\n",
       "0      F    Thrissur     Kerala  Recovered     15-24   \n",
       "1      M   Alappuzha     Kerala  Recovered     15-24   \n",
       "2      M   Kasaragod     Kerala  Recovered     15-24   \n",
       "3      M  East Delhi      Delhi  Recovered     45-54   \n",
       "4      M   Hyderabad  Telangana  Recovered     15-24   \n",
       "\n",
       "                     source     month  \n",
       "0  twitter @vijayanpinarayi   January  \n",
       "1             indiatoday.in  February  \n",
       "2             indiatoday.in     March  \n",
       "3             indiatoday.in  February  \n",
       "4          deccanherald.com  February  "
      ],
      "text/html": "<div>\n<style scoped>\n    .dataframe tbody tr th:only-of-type {\n        vertical-align: middle;\n    }\n\n    .dataframe tbody tr th {\n        vertical-align: top;\n    }\n\n    .dataframe thead th {\n        text-align: right;\n    }\n</style>\n<table border=\"1\" class=\"dataframe\">\n  <thead>\n    <tr style=\"text-align: right;\">\n      <th></th>\n      <th>gender</th>\n      <th>district</th>\n      <th>state</th>\n      <th>status</th>\n      <th>age_group</th>\n      <th>source</th>\n      <th>month</th>\n    </tr>\n  </thead>\n  <tbody>\n    <tr>\n      <th>0</th>\n      <td>F</td>\n      <td>Thrissur</td>\n      <td>Kerala</td>\n      <td>Recovered</td>\n      <td>15-24</td>\n      <td>twitter @vijayanpinarayi</td>\n      <td>January</td>\n    </tr>\n    <tr>\n      <th>1</th>\n      <td>M</td>\n      <td>Alappuzha</td>\n      <td>Kerala</td>\n      <td>Recovered</td>\n      <td>15-24</td>\n      <td>indiatoday.in</td>\n      <td>February</td>\n    </tr>\n    <tr>\n      <th>2</th>\n      <td>M</td>\n      <td>Kasaragod</td>\n      <td>Kerala</td>\n      <td>Recovered</td>\n      <td>15-24</td>\n      <td>indiatoday.in</td>\n      <td>March</td>\n    </tr>\n    <tr>\n      <th>3</th>\n      <td>M</td>\n      <td>East Delhi</td>\n      <td>Delhi</td>\n      <td>Recovered</td>\n      <td>45-54</td>\n      <td>indiatoday.in</td>\n      <td>February</td>\n    </tr>\n    <tr>\n      <th>4</th>\n      <td>M</td>\n      <td>Hyderabad</td>\n      <td>Telangana</td>\n      <td>Recovered</td>\n      <td>15-24</td>\n      <td>deccanherald.com</td>\n      <td>February</td>\n    </tr>\n  </tbody>\n</table>\n</div>"
     },
     "metadata": {},
     "execution_count": 175
    }
   ],
   "source": [
    "df.head(5)"
   ]
  },
  {
   "cell_type": "code",
   "execution_count": 176,
   "metadata": {},
   "outputs": [
    {
     "output_type": "stream",
     "name": "stdout",
     "text": [
      "[['F', 'Thrissur', 'Kerala', 'Recovered', '15-24', 'twitter @vijayanpinarayi', 'January'], ['M', 'Alappuzha', 'Kerala', 'Recovered', '15-24', 'indiatoday.in', 'February'], ['M', 'Kasaragod', 'Kerala', 'Recovered', '15-24', 'indiatoday.in', 'March'], ['M', 'East Delhi', 'Delhi', 'Recovered', '45-54', 'indiatoday.in', 'February'], ['M', 'Hyderabad', 'Telangana', 'Recovered', '15-24', 'deccanherald.com', 'February'], ['M', 'Italians', 'Rajasthan', 'Recovered', '65-74', 'indianexpress.com', 'March'], ['M', 'Italians', 'Haryana', 'Recovered', '55-64', 'indianexpress.com', 'April'], ['M', 'Italians', 'Haryana', 'Recovered', '55-64', 'indianexpress.com', 'April'], ['M', 'Italians', 'Haryana', 'Recovered', '55-64', 'indianexpress.com', 'April'], ['M', 'Italians', 'Haryana', 'Recovered', '55-64', 'indianexpress.com', 'April']]\n"
     ]
    }
   ],
   "source": [
    "# Convert all the values to nested lists\n",
    "records = df.values.tolist()\n",
    "print(records[:10])"
   ]
  },
  {
   "cell_type": "code",
   "execution_count": 177,
   "metadata": {},
   "outputs": [
    {
     "output_type": "stream",
     "name": "stdout",
     "text": [
      "194\n"
     ]
    }
   ],
   "source": [
    "# Applying apriori\n",
    "association_rules = apriori(records, min_support=0.022, min_confidence=0.2, min_lift=2, min_length=2)\n",
    "association_results = list(association_rules)\n",
    "print(len(association_results))"
   ]
  },
  {
   "cell_type": "code",
   "execution_count": 178,
   "metadata": {},
   "outputs": [],
   "source": [
    "# Convert apriori's frozen sets to nested lists for easy interpretation\n",
    "rules = []\n",
    "for i in association_results:\n",
    "    rule = []\n",
    "    #base\n",
    "    rule.append(list(i[2][0][0]))\n",
    "    #antecedent\n",
    "    rule.append((list(i[2][0][1])))\n",
    "    # support\n",
    "    rule.append(str(i[1]))\n",
    "    # confidence\n",
    "    rule.append(str(i[2][0][2]))\n",
    "    # lift\n",
    "    rule.append(str(i[2][0][3]))\n",
    "    rules.append(rule)"
   ]
  },
  {
   "cell_type": "code",
   "execution_count": 179,
   "metadata": {},
   "outputs": [
    {
     "output_type": "stream",
     "name": "stdout",
     "text": [
      "Rule:       Ahmedabad -> Gujarat\nSupport:    0.027077600440286186\nConfidence: 1.0\nLift:       17.668847241867045\n=====================================\nRule:       Gujarat -> April\nSupport:    0.030349727322759795\nConfidence: 0.5362446958981613\nLift:       2.2783730999780087\n=====================================\nRule:       April -> Maharashtra\nSupport:    0.0647420823535298\nConfidence: 0.2750733387185919\nLift:       2.50222593344643\n=====================================\nRule:       April -> Mumbai\nSupport:    0.05269425126332116\nConfidence: 0.22388503890140726\nLift:       3.3508988112344067\n=====================================\nRule:       April -> twitter @ANI\nSupport:    0.08727672987441837\nConfidence: 0.3708175672803027\nLift:       2.4228606463652858\n=====================================\nRule:       Bihar -> twitter @BiharHealthDept\nSupport:    0.06106969530194627\nConfidence: 0.7581366459627329\nLift:       12.414285714285713\n=====================================\nRule:       Chennai -> May\nSupport:    0.10297693500775504\nConfidence: 0.6800370052203792\nLift:       2.0829859043921597\n=====================================\nRule:       Chennai -> Tamil Nadu\nSupport:    0.15142842847851104\nConfidence: 1.0\nLift:       4.092845148871688\n=====================================\nRule:       Chennai -> stopcorona.tn.gov.in\nSupport:    0.1477560414269275\nConfidence: 0.9757483645014207\nLift:       4.255910125979812\n=====================================\nRule:       Delhi -> South Delhi\nSupport:    0.03056987041577025\nConfidence: 0.9938191281717631\nLift:       32.50975927130774\n=====================================\nRule:       Gujarat -> twitter @PIBAhmedabad\nSupport:    0.023054985740731476\nConfidence: 0.4073550212164074\nLift:       17.661181798378166\n=====================================\nRule:       June -> Karnataka\nSupport:    0.043248111272327014\nConfidence: 0.29963948973932336\nLift:       2.210087268957065\n=====================================\nRule:       June -> Recovered\nSupport:    0.048641617051083205\nConfidence: 0.33700776483638384\nLift:       2.0849917030225975\n=====================================\nRule:       June -> twitter @DHFWKA\nSupport:    0.030239655776254565\nConfidence: 0.20951192457016085\nLift:       2.0734377284530625\n=====================================\nRule:       Karnataka -> Recovered\nSupport:    0.052113874018111774\nConfidence: 0.3843826112628238\nLift:       2.378089287225302\n=====================================\nRule:       Karnataka -> twitter @DHFWKA\nSupport:    0.10102566668334417\nConfidence: 0.7451472433389917\nLift:       7.374360245898409\n=====================================\nRule:       Maharashtra -> Mumbai\nSupport:    0.06681342872867364\nConfidence: 0.6077735299472056\nLift:       9.09657746222465\n=====================================\nRule:       Maharashtra -> twitter @ANI\nSupport:    0.05656676839945965\nConfidence: 0.5145639905334062\nLift:       3.3620759982972177\n=====================================\nRule:       Mumbai -> twitter @ANI\nSupport:    0.04264772101866213\nConfidence: 0.6383106185412609\nLift:       4.170615996333502\n=====================================\nRule:       Rajasthan -> twitter @ANI\nSupport:    0.02893881022664732\nConfidence: 0.6141431301762582\nLift:       4.012709624986228\n=====================================\nRule:       Recovered -> twitter @DHFWKA\nSupport:    0.04075649171961775\nConfidence: 0.25215130316349904\nLift:       2.4954189425276567\n=====================================\nRule:       Tamil Nadu -> stopcorona.tn.gov.in\nSupport:    0.22926902486616302\nConfidence: 0.9383626162100177\nLift:       4.092845148871688\n=====================================\nRule:       Uttar Pradesh -> t.me\nSupport:    0.04129684294791615\nConfidence: 0.6696414084049976\nLift:       7.065098622144578\n=====================================\nRule:       Tamil Nadu, 15-24 -> stopcorona.tn.gov.in\nSupport:    0.03390203632361034\nConfidence: 0.9287280701754385\nLift:       4.050822263136454\n=====================================\nRule:       Chennai -> Tamil Nadu, 25-34\nSupport:    0.031160254165207384\nConfidence: 0.20577545760919844\nLift:       3.8625413892139835\n=====================================\nRule:       Chennai -> stopcorona.tn.gov.in, 25-34\nSupport:    0.030489818381948267\nConfidence: 0.20134804731381747\nLift:       4.021126520444914\n=====================================\nRule:       twitter @DHFWKA -> Karnataka, 25-34\nSupport:    0.023865512583179066\nConfidence: 0.23618538324420676\nLift:       7.481200087007861\n=====================================\nRule:       Tamil Nadu -> stopcorona.tn.gov.in, 25-34\nSupport:    0.050072547155651174\nConfidence: 0.20493918171765574\nLift:       4.092845148871688\n=====================================\nRule:       Chennai -> 35-44, Tamil Nadu\nSupport:    0.032280982638715164\nConfidence: 0.2131765016850591\nLift:       3.929864175594241\n=====================================\nRule:       Chennai -> 35-44, stopcorona.tn.gov.in\nSupport:    0.03154050132586181\nConfidence: 0.20828652613493687\nLift:       4.091825042125991\n=====================================\nRule:       Tamil Nadu -> 35-44, stopcorona.tn.gov.in\nSupport:    0.050903087006554264\nConfidence: 0.20833845271736906\nLift:       4.092845148871688\n=====================================\nRule:       Chennai, 45-54 -> Tamil Nadu\nSupport:    0.026487216690849053\nConfidence: 1.0\nLift:       4.092845148871688\n=====================================\nRule:       Chennai, 45-54 -> stopcorona.tn.gov.in\nSupport:    0.025916845949867415\nConfidence: 0.9784661881375142\nLift:       4.267764425258488\n=====================================\nRule:       May, 45-54 -> Tamil Nadu\nSupport:    0.025506579276529745\nConfidence: 0.5356167262029838\nLift:       2.1921963194944176\n=====================================\nRule:       May, 45-54 -> stopcorona.tn.gov.in\nSupport:    0.02538650122579677\nConfidence: 0.5330951880647194\nLift:       2.325194990365212\n=====================================\nRule:       Tamil Nadu, 45-54 -> stopcorona.tn.gov.in\nSupport:    0.03783459248511532\nConfidence: 0.9386792452830188\nLift:       4.094226186162643\n=====================================\nRule:       55-64, Tamil Nadu -> stopcorona.tn.gov.in\nSupport:    0.02435583129033872\nConfidence: 0.9470817120622568\nLift:       4.130875126350455\n=====================================\nRule:       Ahmedabad -> Hospitalized, Gujarat\nSupport:    0.022364536949016862\nConfidence: 0.8259423503325943\nLift:       19.31676779323375\n=====================================\nRule:       F, April -> twitter @ANI\nSupport:    0.028138289888427478\nConfidence: 0.36232444272645276\nLift:       2.3673679754081762\n=====================================\nRule:       Gujarat -> Hospitalized, April\nSupport:    0.028778706159003353\nConfidence: 0.5084865629420086\nLift:       2.276990844092379\n=====================================\nRule:       April -> Hospitalized, Maharashtra\nSupport:    0.06355130835042778\nConfidence: 0.27001403001573065\nLift:       2.857550787845181\n=====================================\nRule:       April -> Hospitalized, Mumbai\nSupport:    0.052564166708360435\nConfidence: 0.22333234131201907\nLift:       3.422066471790344\n=====================================\nRule:       April -> Hospitalized, twitter @ANI\nSupport:    0.08547555911342372\nConfidence: 0.3631648314272352\nLift:       2.620235176426305\n=====================================\nRule:       Maharashtra -> April, M\nSupport:    0.04377845599639766\nConfidence: 0.3982341161478245\nLift:       2.5252237561695967\n=====================================\nRule:       Mumbai -> April, M\nSupport:    0.035433031470455796\nConfidence: 0.5303279916129998\nLift:       3.362838061030783\n=====================================\nRule:       April -> twitter @ANI, M\nSupport:    0.059138439985990894\nConfidence: 0.2512648271757153\nLift:       2.4450000490559987\n=====================================\nRule:       April -> Mumbai, Maharashtra\nSupport:    0.05269425126332116\nConfidence: 0.22388503890140726\nLift:       3.3508988112344067\n=====================================\nRule:       Maharashtra -> twitter @ANI, April\nSupport:    0.04386851453444739\nConfidence: 0.39905334061532866\nLift:       4.572276495573592\n=====================================\nRule:       Mumbai -> twitter @ANI, April\nSupport:    0.036643818482013306\nConfidence: 0.548449902650891\nLift:       6.284033595668057\n=====================================\nRule:       Bihar -> Hospitalized, twitter @BiharHealthDept\nSupport:    0.0553059488667634\nConfidence: 0.686583850931677\nLift:       12.414285714285713\n=====================================\nRule:       Bihar -> M, twitter @BiharHealthDept\nSupport:    0.05241406914494422\nConfidence: 0.6506832298136646\nLift:       12.414285714285713\n=====================================\nRule:       Bihar -> May, twitter @BiharHealthDept\nSupport:    0.022844849151948766\nConfidence: 0.28360248447204967\nLift:       12.414285714285713\n=====================================\nRule:       Chennai -> F, May\nSupport:    0.041136738880272174\nConfidence: 0.2716579660344941\nLift:       2.4446770675963228\n=====================================\nRule:       Chennai -> F, Tamil Nadu\nSupport:    0.058988342422574676\nConfidence: 0.38954602524284676\nLift:       4.357430270051925\n=====================================\nRule:       Chennai -> F, stopcorona.tn.gov.in\nSupport:    0.05758743183068995\nConfidence: 0.38029472014802085\nLift:       4.480635800282063\n=====================================\nRule:       Chennai -> Hospitalized, May\nSupport:    0.10176614799619753\nConfidence: 0.6720412343884227\nLift:       2.4910218745078825\n=====================================\nRule:       Chennai -> Hospitalized, Tamil Nadu\nSupport:    0.14794616500725472\nConfidence: 0.97700389876429\nLift:       4.241209531428232\n=====================================\nRule:       Chennai -> Hospitalized, stopcorona.tn.gov.in\nSupport:    0.14434382348526542\nConfidence: 0.9532148285204519\nLift:       4.422447719971744\n=====================================\nRule:       Chennai, M -> May\nSupport:    0.061830189623255115\nConfidence: 0.6690125595495886\nLift:       2.04921749949697\n=====================================\nRule:       Chennai -> Tamil Nadu, M\nSupport:    0.09242007304748086\nConfidence: 0.6103218132557985\nLift:       3.9405937723038003\n=====================================\nRule:       Chennai -> stopcorona.tn.gov.in, M\nSupport:    0.09014859658778206\nConfidence: 0.5953214828520451\nLift:       4.1243294550307885\n=====================================\nRule:       Chennai -> Tamil Nadu, May\nSupport:    0.10297693500775504\nConfidence: 0.6800370052203792\nLift:       4.592478586072348\n=====================================\nRule:       Chennai -> stopcorona.tn.gov.in, May\nSupport:    0.10289688297393305\nConfidence: 0.6795083592149607\nLift:       4.621702026689382\n=====================================\nRule:       Chennai -> stopcorona.tn.gov.in, Tamil Nadu\nSupport:    0.1477560414269275\nConfidence: 0.9757483645014207\nLift:       4.255910125979812\n=====================================\nRule:       Delhi -> Hospitalized, South Delhi\nSupport:    0.029559213488767697\nConfidence: 0.9609629147690305\nLift:       32.50975927130774\n=====================================\nRule:       Karnataka -> F, twitter @DHFWKA\nSupport:    0.03648371441436934\nConfidence: 0.26909735035795995\nLift:       7.373798658629759\n=====================================\nRule:       Maharashtra -> F, Mumbai\nSupport:    0.022054335317956673\nConfidence: 0.20061896959766978\nLift:       9.09657746222465\n=====================================\nRule:       Tamil Nadu -> F, May\nSupport:    0.05740731475459048\nConfidence: 0.23495924970307572\nLift:       2.114421667634117\n=====================================\nRule:       stopcorona.tn.gov.in -> F, May\nSupport:    0.057307249712313005\nConfidence: 0.24995635474860334\nLift:       2.2493821082216723\n=====================================\nRule:       Tamil Nadu -> F, stopcorona.tn.gov.in\nSupport:    0.08487516885975885\nConfidence: 0.3473809231273294\nLift:       4.092845148871688\n=====================================\nRule:       Karnataka -> Hospitalized, twitter @DHFWKA\nSupport:    0.05946865462550658\nConfidence: 0.4386301572071739\nLift:       7.373339741042713\n=====================================\nRule:       Maharashtra -> Hospitalized, Mumbai\nSupport:    0.0652624205733727\nConfidence: 0.5936646641179684\nLift:       9.09657746222465\n=====================================\nRule:       Maharashtra -> Hospitalized, twitter @ANI\nSupport:    0.054415369990493824\nConfidence: 0.49499362825414167\nLift:       3.5713802786497473\n=====================================\nRule:       Tamil Nadu -> Hospitalized, May\nSupport:    0.14302296492720268\nConfidence: 0.5853708481795471\nLift:       2.1697650574097045\n=====================================\nRule:       May -> Hospitalized, stopcorona.tn.gov.in\nSupport:    0.14197228198328915\nConfidence: 0.43486789676944776\nLift:       2.0175730391668876\n=====================================\nRule:       Mumbai -> Hospitalized, twitter @ANI\nSupport:    0.04234752589182969\nConfidence: 0.6338175827467425\nLift:       4.572995461107192\n=====================================\nRule:       Rajasthan -> Hospitalized, twitter @ANI\nSupport:    0.022354530444789113\nConfidence: 0.4744107029093226\nLift:       3.42287442027602\n=====================================\nRule:       Tamil Nadu -> Hospitalized, stopcorona.tn.gov.in\nSupport:    0.2155401010656927\nConfidence: 0.8821722570340338\nLift:       4.092845148871688\n=====================================\nRule:       Uttar Pradesh -> Hospitalized, t.me\nSupport:    0.025776754890678943\nConfidence: 0.4179782573422035\nLift:       6.8928477141077735\n=====================================\nRule:       Karnataka -> June, M\nSupport:    0.027708010206634312\nConfidence: 0.20436932614953132\nLift:       2.067170911817147\n=====================================\nRule:       June -> twitter @DHFWKA, Karnataka\nSupport:    0.030239655776254565\nConfidence: 0.20951192457016085\nLift:       2.0738484728525184\n=====================================\nRule:       June -> M, Recovered\nSupport:    0.03250112573172562\nConfidence: 0.22518025513033835\nLift:       2.083647110782441\n=====================================\nRule:       Karnataka -> M, Recovered\nSupport:    0.03505278430980137\nConfidence: 0.2585430659089231\nLift:       2.392361230704466\n=====================================\nRule:       Karnataka -> twitter @DHFWKA, M\nSupport:    0.06452193926051934\nConfidence: 0.4759022806111152\nLift:       7.374677378333353\n=====================================\nRule:       twitter @DHFWKA -> Karnataka, May\nSupport:    0.024585980887576925\nConfidence: 0.24331550802139038\nLift:       6.5189638858224255\n=====================================\nRule:       Karnataka -> twitter @DHFWKA, Recovered\nSupport:    0.04075649171961775\nConfidence: 0.3006125913351539\nLift:       7.3758210938076605\n=====================================\nRule:       Maharashtra -> Mumbai, M\nSupport:    0.04475909341071697\nConfidence: 0.4071545603495358\nLift:       9.09657746222465\n=====================================\nRule:       Maharashtra -> twitter @ANI, M\nSupport:    0.03799469655275929\nConfidence: 0.34562170034589473\nLift:       3.3631650072119754\n=====================================\nRule:       Mumbai -> twitter @ANI, M\nSupport:    0.028608595587131636\nConfidence: 0.4281863112176127\nLift:       4.166582182232923\n=====================================\nRule:       twitter @DHFWKA -> M, Recovered\nSupport:    0.027597938660129082\nConfidence: 0.27312339077044956\nLift:       2.5272764867263775\n=====================================\nRule:       Tamil Nadu -> stopcorona.tn.gov.in, M\nSupport:    0.14434382348526542\nConfidence: 0.5907769177212598\nLift:       4.092845148871688\n=====================================\nRule:       Uttar Pradesh -> t.me, M\nSupport:    0.027547906138990344\nConfidence: 0.4466980366704527\nLift:       7.12655943401368\n=====================================\nRule:       Maharashtra -> twitter @ANI, Mumbai\nSupport:    0.04264772101866213\nConfidence: 0.3879482978336064\nLift:       9.09657746222465\n=====================================\nRule:       Tamil Nadu -> stopcorona.tn.gov.in, May\nSupport:    0.1470255666183019\nConfidence: 0.6017528770938282\nLift:       4.092845148871688\n=====================================\nRule:       Tamil Nadu, 15-24 -> Hospitalized, stopcorona.tn.gov.in\nSupport:    0.03174063141041677\nConfidence: 0.8695175438596491\nLift:       4.03413350722442\n=====================================\nRule:       Chennai -> Hospitalized, Tamil Nadu, 25-34\nSupport:    0.030699954970730976\nConfidence: 0.20273574307804137\nLift:       4.027111207414841\n=====================================\nRule:       Chennai, 25-34 -> stopcorona.tn.gov.in, Hospitalized\nSupport:    0.030039525691699605\nConfidence: 0.9640333975594091\nLift:       4.4726405564113065\n=====================================\nRule:       Chennai -> stopcorona.tn.gov.in, Tamil Nadu, 25-34\nSupport:    0.030489818381948267\nConfidence: 0.20134804731381747\nLift:       4.021126520444914\n=====================================\nRule:       Tamil Nadu, 25-34 -> Hospitalized, May\nSupport:    0.030289688297393307\nConfidence: 0.568557475582269\nLift:       2.1074437640411725\n=====================================\nRule:       stopcorona.tn.gov.in, 25-34 -> Hospitalized, May\nSupport:    0.03006954520438285\nConfidence: 0.6005195843325339\nLift:       2.225916125524713\n=====================================\nRule:       stopcorona.tn.gov.in -> Hospitalized, Tamil Nadu, 25-34\nSupport:    0.047180667433831994\nConfidence: 0.20578736033519554\nLift:       4.087728057065746\n=====================================\nRule:       Tamil Nadu, 25-34 -> stopcorona.tn.gov.in, M\nSupport:    0.032491119227497874\nConfidence: 0.6098797896318557\nLift:       4.225187991463397\n=====================================\nRule:       Tamil Nadu, 25-34 -> stopcorona.tn.gov.in, May\nSupport:    0.031070195627157654\nConfidence: 0.5832081141998497\nLift:       3.966712236613488\n=====================================\nRule:       Chennai -> 35-44, Tamil Nadu, Hospitalized\nSupport:    0.03181067694001101\nConfidence: 0.21007070640322476\nLift:       4.067703166906853\n=====================================\nRule:       Chennai -> 35-44, stopcorona.tn.gov.in, Hospitalized\nSupport:    0.0310802021313854\nConfidence: 0.2052468116037798\nLift:       4.244896547521468\n=====================================\nRule:       Chennai -> 35-44, Tamil Nadu, stopcorona.tn.gov.in\nSupport:    0.03154050132586181\nConfidence: 0.20828652613493687\nLift:       4.091825042125991\n=====================================\nRule:       35-44, Tamil Nadu -> Hospitalized, May\nSupport:    0.031100215139840896\nConfidence: 0.5733259546209186\nLift:       2.1251188485234787\n=====================================\nRule:       35-44, May -> stopcorona.tn.gov.in, Hospitalized\nSupport:    0.030860059038374944\nConfidence: 0.44094938518730337\nLift:       2.0457881526784196\n=====================================\nRule:       stopcorona.tn.gov.in -> 35-44, Tamil Nadu, Hospitalized\nSupport:    0.04835142842847851\nConfidence: 0.21089385474860334\nLift:       4.083642196144483\n=====================================\nRule:       35-44, Tamil Nadu -> stopcorona.tn.gov.in, M\nSupport:    0.03370190623905538\nConfidence: 0.6212875853163622\nLift:       4.304220092796579\n=====================================\nRule:       35-44, Tamil Nadu -> stopcorona.tn.gov.in, May\nSupport:    0.031690598889278034\nConfidence: 0.584209555432577\nLift:       3.9735235773602793\n=====================================\nRule:       Chennai, 45-54 -> Hospitalized, Tamil Nadu\nSupport:    0.025976884975233903\nConfidence: 0.9807329051756706\nLift:       4.257397284163617\n=====================================\nRule:       Chennai, 45-54 -> Hospitalized, stopcorona.tn.gov.in\nSupport:    0.02542652724270776\nConfidence: 0.9599546656592369\nLift:       4.453717247569909\n=====================================\nRule:       Chennai, 45-54 -> stopcorona.tn.gov.in, Tamil Nadu\nSupport:    0.025916845949867415\nConfidence: 0.9784661881375142\nLift:       4.267764425258488\n=====================================\nRule:       May, 45-54 -> Hospitalized, Tamil Nadu\nSupport:    0.02477610446790414\nConfidence: 0.5202773691952091\nLift:       2.2585430211773256\n=====================================\nRule:       May, 45-54 -> Hospitalized, stopcorona.tn.gov.in\nSupport:    0.02465602641717116\nConfidence: 0.5177558310569447\nLift:       2.402132264469627\n=====================================\nRule:       Tamil Nadu, 45-54 -> Hospitalized, stopcorona.tn.gov.in\nSupport:    0.03598338920298194\nConfidence: 0.8927507447864946\nLift:       4.141924126287759\n=====================================\nRule:       Tamil Nadu, 45-54 -> stopcorona.tn.gov.in, M\nSupport:    0.024646019912943413\nConfidence: 0.6114697120158887\nLift:       4.236202819432086\n=====================================\nRule:       May, 45-54 -> stopcorona.tn.gov.in, Tamil Nadu\nSupport:    0.02538650122579677\nConfidence: 0.5330951880647194\nLift:       2.325194990365212\n=====================================\nRule:       55-64, Tamil Nadu -> stopcorona.tn.gov.in, Hospitalized\nSupport:    0.022804823135037774\nConfidence: 0.8867704280155642\nLift:       4.114178399430613\n=====================================\nRule:       F, April -> Hospitalized, twitter @ANI\nSupport:    0.02755791264321809\nConfidence: 0.354851178971782\nLift:       2.5602521529524966\n=====================================\nRule:       Maharashtra -> Hospitalized, April, M\nSupport:    0.04299794866663331\nConfidence: 0.391134170762789\nLift:       2.6133578495138945\n=====================================\nRule:       Mumbai -> Hospitalized, April, M\nSupport:    0.03531295341972282\nConfidence: 0.5285307772951924\nLift:       3.5313714801761753\n=====================================\nRule:       April -> Hospitalized, twitter @ANI, M\nSupport:    0.057917646470205635\nConfidence: 0.24607797287530292\nLift:       2.64883694736034\n=====================================\nRule:       April -> Hospitalized, Mumbai, Maharashtra\nSupport:    0.052564166708360435\nConfidence: 0.22333234131201907\nLift:       3.422066471790344\n=====================================\nRule:       Maharashtra -> Hospitalized, twitter @ANI, April\nSupport:    0.043468254365337466\nConfidence: 0.395412342981977\nLift:       4.626028154519302\n=====================================\nRule:       Mumbai -> Hospitalized, twitter @ANI, April\nSupport:    0.03659378596087457\nConfidence: 0.5477010633518047\nLift:       6.407692082189488\n=====================================\nRule:       Maharashtra -> April, M, Mumbai\nSupport:    0.035433031470455796\nConfidence: 0.3223193154924449\nLift:       9.09657746222465\n=====================================\nRule:       Maharashtra -> twitter @ANI, April, M\nSupport:    0.02964927202681743\nConfidence: 0.2697068996905152\nLift:       4.560602203142409\n=====================================\nRule:       Mumbai -> twitter @ANI, April, M\nSupport:    0.024646019912943413\nConfidence: 0.3688782387299685\nLift:       6.237537527492284\n=====================================\nRule:       Maharashtra -> twitter @ANI, April, Mumbai\nSupport:    0.036643818482013306\nConfidence: 0.3333333333333333\nLift:       9.09657746222465\n=====================================\nRule:       Bihar -> Hospitalized, M, twitter @BiharHealthDept\nSupport:    0.04847150647921149\nConfidence: 0.6017391304347826\nLift:       12.414285714285713\n=====================================\nRule:       Chennai -> F, May, Hospitalized\nSupport:    0.040786511232300995\nConfidence: 0.26934513976078767\nLift:       2.9283079353779717\n=====================================\nRule:       Chennai -> F, Tamil Nadu, Hospitalized\nSupport:    0.05786761394906689\nConfidence: 0.38214498116698603\nLift:       4.4997830438226405\n=====================================\nRule:       Chennai -> F, stopcorona.tn.gov.in, Hospitalized\nSupport:    0.056476709861409916\nConfidence: 0.3729597568228375\nLift:       4.633482508464727\n=====================================\nRule:       Chennai -> F, Tamil Nadu, May\nSupport:    0.041136738880272174\nConfidence: 0.2716579660344941\nLift:       4.732114142523474\n=====================================\nRule:       Chennai -> F, stopcorona.tn.gov.in, May\nSupport:    0.04112673237604443\nConfidence: 0.27159188528381684\nLift:       4.739223861679454\n=====================================\nRule:       Chennai -> F, Tamil Nadu, stopcorona.tn.gov.in\nSupport:    0.05758743183068995\nConfidence: 0.38029472014802085\nLift:       4.480635800282063\n=====================================\nRule:       Chennai -> Hospitalized, May, M\nSupport:    0.06096963025966878\nConfidence: 0.4026300138769576\nLift:       2.2649496446267245\n=====================================\nRule:       Chennai -> Hospitalized, Tamil Nadu, M\nSupport:    0.09005853804973232\nConfidence: 0.5947267560959492\nLift:       4.090716385879873\n=====================================\nRule:       Chennai -> Hospitalized, stopcorona.tn.gov.in, M\nSupport:    0.0878471006154\nConfidence: 0.5801229101962597\nLift:       4.297278410085481\n=====================================\nRule:       Chennai -> Hospitalized, Tamil Nadu, May\nSupport:    0.10176614799619753\nConfidence: 0.6720412343884227\nLift:       4.698834447534249\n=====================================\nRule:       Chennai -> Hospitalized, stopcorona.tn.gov.in, May\nSupport:    0.10168609596237554\nConfidence: 0.671512588383004\nLift:       4.7298851508356\n=====================================\nRule:       Chennai -> Hospitalized, Tamil Nadu, stopcorona.tn.gov.in\nSupport:    0.14434382348526542\nConfidence: 0.9532148285204519\nLift:       4.422447719971744\n=====================================\nRule:       Chennai -> Tamil Nadu, May, M\nSupport:    0.061830189623255115\nConfidence: 0.4083129584352078\nLift:       4.505327978494258\n=====================================\nRule:       Chennai -> stopcorona.tn.gov.in, May, M\nSupport:    0.06176014409366088\nConfidence: 0.4078503931804665\nLift:       4.547927811034358\n=====================================\nRule:       Chennai -> stopcorona.tn.gov.in, Tamil Nadu, M\nSupport:    0.09014859658778206\nConfidence: 0.5953214828520451\nLift:       4.1243294550307885\n=====================================\nRule:       Chennai -> stopcorona.tn.gov.in, Tamil Nadu, May\nSupport:    0.10289688297393305\nConfidence: 0.6795083592149607\nLift:       4.621702026689382\n=====================================\nRule:       twitter @DHFWKA -> F, Karnataka, Hospitalized\nSupport:    0.023004953219592734\nConfidence: 0.22766884531590412\nLift:       7.341750905661465\n=====================================\nRule:       Tamil Nadu -> F, May, Hospitalized\nSupport:    0.0557862610696953\nConfidence: 0.22832452799279193\nLift:       2.48233373639683\n=====================================\nRule:       stopcorona.tn.gov.in -> F, May, Hospitalized\nSupport:    0.05568619602741782\nConfidence: 0.24288582402234635\nLift:       2.640643475160268\n=====================================\nRule:       Tamil Nadu -> F, stopcorona.tn.gov.in, Hospitalized\nSupport:    0.0804923200080052\nConfidence: 0.3294426014661916\nLift:       4.092845148871688\n=====================================\nRule:       Tamil Nadu -> F, stopcorona.tn.gov.in, May\nSupport:    0.057307249712313005\nConfidence: 0.2345496989802187\nLift:       4.092845148871688\n=====================================\nRule:       Karnataka -> Hospitalized, twitter @DHFWKA, M\nSupport:    0.036443688397458346\nConfidence: 0.2688021256181268\nLift:       7.373796438003706\n=====================================\nRule:       Maharashtra -> Hospitalized, Mumbai, M\nSupport:    0.043708410466803425\nConfidence: 0.397596941561988\nLift:       9.09657746222465\n=====================================\nRule:       Maharashtra -> Hospitalized, twitter @ANI, M\nSupport:    0.03650372742282484\nConfidence: 0.3320589841616603\nLift:       3.5743552975221373\n=====================================\nRule:       Tamil Nadu -> Hospitalized, May, M\nSupport:    0.08719667784059638\nConfidence: 0.35688249989761234\nLift:       2.0076021743466304\n=====================================\nRule:       stopcorona.tn.gov.in -> Hospitalized, May, M\nSupport:    0.08624605993896033\nConfidence: 0.3761784217877095\nLift:       2.1161492024404587\n=====================================\nRule:       Mumbai -> Hospitalized, twitter @ANI, M\nSupport:    0.02838845249412118\nConfidence: 0.42489141830163246\nLift:       4.573623856955368\n=====================================\nRule:       Tamil Nadu -> Hospitalized, stopcorona.tn.gov.in, M\nSupport:    0.13499774853654875\nConfidence: 0.5525248802064135\nLift:       4.092845148871688\n=====================================\nRule:       Maharashtra -> Hospitalized, twitter @ANI, Mumbai\nSupport:    0.04234752589182969\nConfidence: 0.3852175496085928\nLift:       9.09657746222465\n=====================================\nRule:       May -> Hospitalized, Tamil Nadu, stopcorona.tn.gov.in\nSupport:    0.14197228198328915\nConfidence: 0.43486789676944776\nLift:       2.0175730391668876\n=====================================\nRule:       Karnataka -> twitter @DHFWKA, M, Recovered\nSupport:    0.027597938660129082\nConfidence: 0.20355745811499001\nLift:       7.3758210938076605\n=====================================\nRule:       Maharashtra -> twitter @ANI, Mumbai, M\nSupport:    0.028608595587131636\nConfidence: 0.2602403058438012\nLift:       9.09657746222465\n=====================================\nRule:       Tamil Nadu -> stopcorona.tn.gov.in, May, M\nSupport:    0.0896782908890779\nConfidence: 0.36703935782446656\nLift:       4.092845148871688\n=====================================\nRule:       Chennai, 25-34 -> stopcorona.tn.gov.in, Tamil Nadu, Hospitalized\nSupport:    0.030039525691699605\nConfidence: 0.9640333975594091\nLift:       4.4726405564113065\n=====================================\nRule:       Tamil Nadu, 25-34 -> Hospitalized, stopcorona.tn.gov.in, M\nSupport:    0.030409766348126283\nConfidence: 0.5708114199849738\nLift:       4.228303258186817\n=====================================\nRule:       Tamil Nadu, 25-34 -> Hospitalized, stopcorona.tn.gov.in, May\nSupport:    0.03006954520438285\nConfidence: 0.5644252441773103\nLift:       3.9756016899393503\n=====================================\nRule:       Chennai -> 35-44, Tamil Nadu, stopcorona.tn.gov.in, Hospitalized\nSupport:    0.0310802021313854\nConfidence: 0.2052468116037798\nLift:       4.244896547521468\n=====================================\nRule:       35-44, Tamil Nadu -> stopcorona.tn.gov.in, M, Hospitalized\nSupport:    0.03196077450342723\nConfidence: 0.5891901863124884\nLift:       4.3644445385174215\n=====================================\nRule:       35-44, May -> stopcorona.tn.gov.in, Tamil Nadu, Hospitalized\nSupport:    0.030860059038374944\nConfidence: 0.44094938518730337\nLift:       2.0457881526784196\n=====================================\nRule:       Chennai, 45-54 -> Hospitalized, Tamil Nadu, stopcorona.tn.gov.in\nSupport:    0.02542652724270776\nConfidence: 0.9599546656592369\nLift:       4.453717247569909\n=====================================\nRule:       Tamil Nadu, 45-54 -> Hospitalized, stopcorona.tn.gov.in, M\nSupport:    0.023355180867563916\nConfidence: 0.5794438927507447\nLift:       4.292248567344576\n=====================================\nRule:       May, 45-54 -> Hospitalized, Tamil Nadu, stopcorona.tn.gov.in\nSupport:    0.02465602641717116\nConfidence: 0.5177558310569447\nLift:       2.402132264469627\n=====================================\nRule:       Maharashtra -> Hospitalized, Mumbai, M, April\nSupport:    0.03531295341972282\nConfidence: 0.3212270162024395\nLift:       9.09657746222465\n=====================================\nRule:       Maharashtra -> Hospitalized, twitter @ANI, April, M\nSupport:    0.029389102916895983\nConfidence: 0.2673402512288367\nLift:       4.615868694981651\n=====================================\nRule:       Mumbai -> Hospitalized, twitter @ANI, April, M\nSupport:    0.024595987391804672\nConfidence: 0.3681293994308821\nLift:       6.356083540450103\n=====================================\nRule:       Maharashtra -> Hospitalized, twitter @ANI, Mumbai, April\nSupport:    0.03659378596087457\nConfidence: 0.3328782086291644\nLift:       9.09657746222465\n=====================================\nRule:       Maharashtra -> twitter @ANI, Mumbai, M, April\nSupport:    0.024646019912943413\nConfidence: 0.224194429273621\nLift:       9.09657746222465\n=====================================\nRule:       Chennai -> Hospitalized, Tamil Nadu, May, F\nSupport:    0.040786511232300995\nConfidence: 0.26934513976078767\nLift:       4.828162608429474\n=====================================\nRule:       Chennai -> stopcorona.tn.gov.in, May, F, Hospitalized\nSupport:    0.040776504728073246\nConfidence: 0.26927905901011034\nLift:       4.835651888980301\n=====================================\nRule:       Chennai -> stopcorona.tn.gov.in, Tamil Nadu, F, Hospitalized\nSupport:    0.056476709861409916\nConfidence: 0.3729597568228375\nLift:       4.633482508464727\n=====================================\nRule:       Chennai -> stopcorona.tn.gov.in, Tamil Nadu, May, F\nSupport:    0.04112673237604443\nConfidence: 0.27159188528381684\nLift:       4.739223861679454\n=====================================\nRule:       Chennai -> Hospitalized, Tamil Nadu, May, M\nSupport:    0.06096963025966878\nConfidence: 0.4026300138769576\nLift:       4.6174925908645585\n=====================================\nRule:       Chennai -> Hospitalized, stopcorona.tn.gov.in, May, M\nSupport:    0.06089958473007455\nConfidence: 0.4021674486222163\nLift:       4.6630240141618735\n=====================================\nRule:       Chennai -> Hospitalized, Tamil Nadu, stopcorona.tn.gov.in, M\nSupport:    0.0878471006154\nConfidence: 0.5801229101962597\nLift:       4.297278410085481\n=====================================\nRule:       Chennai -> Hospitalized, Tamil Nadu, stopcorona.tn.gov.in, May\nSupport:    0.10168609596237554\nConfidence: 0.671512588383004\nLift:       4.7298851508356\n=====================================\nRule:       Chennai -> stopcorona.tn.gov.in, Tamil Nadu, May, M\nSupport:    0.06176014409366088\nConfidence: 0.4078503931804665\nLift:       4.547927811034358\n=====================================\nRule:       Tamil Nadu -> stopcorona.tn.gov.in, May, F, Hospitalized\nSupport:    0.05568619602741782\nConfidence: 0.22791497726993487\nLift:       4.092845148871688\n=====================================\nRule:       Maharashtra -> Hospitalized, twitter @ANI, Mumbai, M\nSupport:    0.02838845249412118\nConfidence: 0.2582377571454579\nLift:       9.09657746222465\n=====================================\nRule:       Tamil Nadu -> Hospitalized, stopcorona.tn.gov.in, May, M\nSupport:    0.08624605993896033\nConfidence: 0.3529917680304706\nLift:       4.092845148871688\n=====================================\nRule:       Maharashtra -> Hospitalized, Mumbai, M, twitter @ANI, April\nSupport:    0.024595987391804672\nConfidence: 0.223739304569452\nLift:       9.09657746222465\n=====================================\nRule:       Chennai -> Hospitalized, stopcorona.tn.gov.in, May, F, Tamil Nadu\nSupport:    0.040776504728073246\nConfidence: 0.26927905901011034\nLift:       4.835651888980301\n=====================================\nRule:       Chennai -> Hospitalized, stopcorona.tn.gov.in, May, Tamil Nadu, M\nSupport:    0.06089958473007455\nConfidence: 0.4021674486222163\nLift:       4.6630240141618735\n=====================================\n"
     ]
    }
   ],
   "source": [
    "# Printing/Visuaising the rules\n",
    "for i in rules:\n",
    "    base = \", \".join(i[0])\n",
    "    antecedents = \", \".join(i[1])\n",
    "    print(\"Rule:       \" + base + \" -> \" + antecedents)\n",
    "    print(\"Support:    \" + i[2])\n",
    "    print(\"Confidence: \" + i[3]) \n",
    "    print(\"Lift:       \" + i[4]) \n",
    "    print(\"=====================================\")"
   ]
  },
  {
   "cell_type": "code",
   "execution_count": 182,
   "metadata": {},
   "outputs": [
    {
     "output_type": "execute_result",
     "data": {
      "text/plain": [
       "<IPython.lib.display.IFrame at 0x17b6efd0>"
      ],
      "text/html": "\n        <iframe\n            width=\"500px\"\n            height=\"500px\"\n            src=\"arm.html\"\n            frameborder=\"0\"\n            allowfullscreen\n        ></iframe>\n        "
     },
     "metadata": {},
     "execution_count": 182
    }
   ],
   "source": [
    "# Visualising via network graphs\n",
    "G = nx.DiGraph()\n",
    "rulecount = 0\n",
    "for i in rules:\n",
    "    G.add_nodes_from([('R' + str(rulecount), {\"color\": \"red\"})])\n",
    "    for j in i[0]:\n",
    "        G.add_nodes_from([(j, {\"color\": \"yellow\"})])\n",
    "        G.add_edges_from([(j, 'R' + str(rulecount))])\n",
    "    for j in i[1]:\n",
    "        G.add_nodes_from([(j, {\"color\": \"green\"})])\n",
    "        G.add_edges_from([('R' + str(rulecount), j)])\n",
    "    rulecount += 1\n",
    "net = Network(notebook = True)\n",
    "net.from_nx(G)\n",
    "net.show('arm.html')"
   ]
  },
  {
   "cell_type": "code",
   "execution_count": null,
   "metadata": {},
   "outputs": [],
   "source": []
  }
 ]
}