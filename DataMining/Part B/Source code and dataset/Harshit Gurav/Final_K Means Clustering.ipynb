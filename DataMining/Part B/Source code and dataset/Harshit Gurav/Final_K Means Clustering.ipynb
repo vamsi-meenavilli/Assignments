{
 "cells": [
  {
   "cell_type": "code",
   "execution_count": 1,
   "metadata": {},
   "outputs": [],
   "source": [
    "import numpy as np\n",
    "import pandas as pd\n",
    "import matplotlib.pyplot as plt\n",
    "#from pyclustertend import hopkins \n",
    "from sklearn.preprocessing import StandardScaler, normalize\n",
    "from sklearn.decomposition import PCA\n",
    "from sklearn.cluster import KMeans"
   ]
  },
  {
   "cell_type": "code",
   "execution_count": 2,
   "metadata": {},
   "outputs": [
    {
     "data": {
      "text/html": [
       "<div>\n",
       "<style scoped>\n",
       "    .dataframe tbody tr th:only-of-type {\n",
       "        vertical-align: middle;\n",
       "    }\n",
       "\n",
       "    .dataframe tbody tr th {\n",
       "        vertical-align: top;\n",
       "    }\n",
       "\n",
       "    .dataframe thead th {\n",
       "        text-align: right;\n",
       "    }\n",
       "</style>\n",
       "<table border=\"1\" class=\"dataframe\">\n",
       "  <thead>\n",
       "    <tr style=\"text-align: right;\">\n",
       "      <th></th>\n",
       "      <th>pat_number</th>\n",
       "      <th>date_announced</th>\n",
       "      <th>age</th>\n",
       "      <th>gender</th>\n",
       "      <th>state</th>\n",
       "      <th>outcome</th>\n",
       "      <th>age_group</th>\n",
       "      <th>source</th>\n",
       "      <th>outcome_1</th>\n",
       "      <th>gender_1</th>\n",
       "      <th>state_1</th>\n",
       "      <th>age_group_1</th>\n",
       "      <th>source_1</th>\n",
       "    </tr>\n",
       "  </thead>\n",
       "  <tbody>\n",
       "    <tr>\n",
       "      <th>0</th>\n",
       "      <td>1.0</td>\n",
       "      <td>2020-01-30</td>\n",
       "      <td>20.0</td>\n",
       "      <td>F</td>\n",
       "      <td>Kerala</td>\n",
       "      <td>Recovered</td>\n",
       "      <td>middle</td>\n",
       "      <td>social</td>\n",
       "      <td>2</td>\n",
       "      <td>0</td>\n",
       "      <td>16</td>\n",
       "      <td>0</td>\n",
       "      <td>2</td>\n",
       "    </tr>\n",
       "    <tr>\n",
       "      <th>1</th>\n",
       "      <td>2.0</td>\n",
       "      <td>2020-02-02</td>\n",
       "      <td>6.0</td>\n",
       "      <td>M</td>\n",
       "      <td>Kerala</td>\n",
       "      <td>Recovered</td>\n",
       "      <td>youth</td>\n",
       "      <td>news</td>\n",
       "      <td>2</td>\n",
       "      <td>1</td>\n",
       "      <td>16</td>\n",
       "      <td>2</td>\n",
       "      <td>1</td>\n",
       "    </tr>\n",
       "    <tr>\n",
       "      <th>2</th>\n",
       "      <td>3.0</td>\n",
       "      <td>2020-03-02</td>\n",
       "      <td>50.0</td>\n",
       "      <td>M</td>\n",
       "      <td>Kerala</td>\n",
       "      <td>Recovered</td>\n",
       "      <td>middle</td>\n",
       "      <td>news</td>\n",
       "      <td>2</td>\n",
       "      <td>1</td>\n",
       "      <td>16</td>\n",
       "      <td>0</td>\n",
       "      <td>1</td>\n",
       "    </tr>\n",
       "    <tr>\n",
       "      <th>3</th>\n",
       "      <td>4.0</td>\n",
       "      <td>2020-02-03</td>\n",
       "      <td>45.0</td>\n",
       "      <td>M</td>\n",
       "      <td>Delhi</td>\n",
       "      <td>Recovered</td>\n",
       "      <td>middle</td>\n",
       "      <td>news</td>\n",
       "      <td>2</td>\n",
       "      <td>1</td>\n",
       "      <td>8</td>\n",
       "      <td>0</td>\n",
       "      <td>1</td>\n",
       "    </tr>\n",
       "    <tr>\n",
       "      <th>4</th>\n",
       "      <td>5.0</td>\n",
       "      <td>2020-02-03</td>\n",
       "      <td>24.0</td>\n",
       "      <td>M</td>\n",
       "      <td>Telangana</td>\n",
       "      <td>Recovered</td>\n",
       "      <td>middle</td>\n",
       "      <td>news</td>\n",
       "      <td>2</td>\n",
       "      <td>1</td>\n",
       "      <td>31</td>\n",
       "      <td>0</td>\n",
       "      <td>1</td>\n",
       "    </tr>\n",
       "  </tbody>\n",
       "</table>\n",
       "</div>"
      ],
      "text/plain": [
       "   pat_number date_announced   age gender      state    outcome age_group  \\\n",
       "0         1.0     2020-01-30  20.0      F     Kerala  Recovered    middle   \n",
       "1         2.0     2020-02-02   6.0      M     Kerala  Recovered     youth   \n",
       "2         3.0     2020-03-02  50.0      M     Kerala  Recovered    middle   \n",
       "3         4.0     2020-02-03  45.0      M      Delhi  Recovered    middle   \n",
       "4         5.0     2020-02-03  24.0      M  Telangana  Recovered    middle   \n",
       "\n",
       "   source  outcome_1  gender_1  state_1  age_group_1  source_1  \n",
       "0  social          2         0       16            0         2  \n",
       "1    news          2         1       16            2         1  \n",
       "2    news          2         1       16            0         1  \n",
       "3    news          2         1        8            0         1  \n",
       "4    news          2         1       31            0         1  "
      ]
     },
     "execution_count": 2,
     "metadata": {},
     "output_type": "execute_result"
    }
   ],
   "source": [
    "#Reading dataset\n",
    "df=pd.read_csv(\"group12datav5.csv\")\n",
    "df.head()"
   ]
  },
  {
   "cell_type": "code",
   "execution_count": 3,
   "metadata": {},
   "outputs": [],
   "source": [
    "df.drop([\"pat_number\",\"date_announced\",\"gender\",\"state\",\"outcome\",\"age_group\",\"source\"],axis=1,inplace=True)"
   ]
  },
  {
   "cell_type": "code",
   "execution_count": 45,
   "metadata": {},
   "outputs": [
    {
     "data": {
      "text/html": [
       "<div>\n",
       "<style scoped>\n",
       "    .dataframe tbody tr th:only-of-type {\n",
       "        vertical-align: middle;\n",
       "    }\n",
       "\n",
       "    .dataframe tbody tr th {\n",
       "        vertical-align: top;\n",
       "    }\n",
       "\n",
       "    .dataframe thead th {\n",
       "        text-align: right;\n",
       "    }\n",
       "</style>\n",
       "<table border=\"1\" class=\"dataframe\">\n",
       "  <thead>\n",
       "    <tr style=\"text-align: right;\">\n",
       "      <th></th>\n",
       "      <th>age</th>\n",
       "      <th>outcome_1</th>\n",
       "      <th>gender_1</th>\n",
       "      <th>state_1</th>\n",
       "      <th>age_group_1</th>\n",
       "      <th>source_1</th>\n",
       "    </tr>\n",
       "  </thead>\n",
       "  <tbody>\n",
       "    <tr>\n",
       "      <th>0</th>\n",
       "      <td>20.0</td>\n",
       "      <td>2</td>\n",
       "      <td>0</td>\n",
       "      <td>16</td>\n",
       "      <td>0</td>\n",
       "      <td>2</td>\n",
       "    </tr>\n",
       "    <tr>\n",
       "      <th>1</th>\n",
       "      <td>6.0</td>\n",
       "      <td>2</td>\n",
       "      <td>1</td>\n",
       "      <td>16</td>\n",
       "      <td>2</td>\n",
       "      <td>1</td>\n",
       "    </tr>\n",
       "    <tr>\n",
       "      <th>2</th>\n",
       "      <td>50.0</td>\n",
       "      <td>2</td>\n",
       "      <td>1</td>\n",
       "      <td>16</td>\n",
       "      <td>0</td>\n",
       "      <td>1</td>\n",
       "    </tr>\n",
       "    <tr>\n",
       "      <th>3</th>\n",
       "      <td>45.0</td>\n",
       "      <td>2</td>\n",
       "      <td>1</td>\n",
       "      <td>8</td>\n",
       "      <td>0</td>\n",
       "      <td>1</td>\n",
       "    </tr>\n",
       "    <tr>\n",
       "      <th>4</th>\n",
       "      <td>24.0</td>\n",
       "      <td>2</td>\n",
       "      <td>1</td>\n",
       "      <td>31</td>\n",
       "      <td>0</td>\n",
       "      <td>1</td>\n",
       "    </tr>\n",
       "  </tbody>\n",
       "</table>\n",
       "</div>"
      ],
      "text/plain": [
       "    age  outcome_1  gender_1  state_1  age_group_1  source_1\n",
       "0  20.0          2         0       16            0         2\n",
       "1   6.0          2         1       16            2         1\n",
       "2  50.0          2         1       16            0         1\n",
       "3  45.0          2         1        8            0         1\n",
       "4  24.0          2         1       31            0         1"
      ]
     },
     "execution_count": 45,
     "metadata": {},
     "output_type": "execute_result"
    }
   ],
   "source": [
    "df.head()"
   ]
  },
  {
   "cell_type": "code",
   "execution_count": 4,
   "metadata": {},
   "outputs": [
    {
     "data": {
      "text/html": [
       "<div>\n",
       "<style scoped>\n",
       "    .dataframe tbody tr th:only-of-type {\n",
       "        vertical-align: middle;\n",
       "    }\n",
       "\n",
       "    .dataframe tbody tr th {\n",
       "        vertical-align: top;\n",
       "    }\n",
       "\n",
       "    .dataframe thead th {\n",
       "        text-align: right;\n",
       "    }\n",
       "</style>\n",
       "<table border=\"1\" class=\"dataframe\">\n",
       "  <thead>\n",
       "    <tr style=\"text-align: right;\">\n",
       "      <th></th>\n",
       "      <th>age</th>\n",
       "      <th>outcome_1</th>\n",
       "      <th>gender_1</th>\n",
       "      <th>state_1</th>\n",
       "      <th>age_group_1</th>\n",
       "      <th>source_1</th>\n",
       "    </tr>\n",
       "  </thead>\n",
       "  <tbody>\n",
       "    <tr>\n",
       "      <th>count</th>\n",
       "      <td>99931.000000</td>\n",
       "      <td>99931.000000</td>\n",
       "      <td>99931.000000</td>\n",
       "      <td>99931.000000</td>\n",
       "      <td>99931.000000</td>\n",
       "      <td>99931.000000</td>\n",
       "    </tr>\n",
       "    <tr>\n",
       "      <th>mean</th>\n",
       "      <td>43.557785</td>\n",
       "      <td>1.129780</td>\n",
       "      <td>0.668471</td>\n",
       "      <td>20.004603</td>\n",
       "      <td>0.313726</td>\n",
       "      <td>1.201629</td>\n",
       "    </tr>\n",
       "    <tr>\n",
       "      <th>std</th>\n",
       "      <td>16.360573</td>\n",
       "      <td>0.420312</td>\n",
       "      <td>0.470914</td>\n",
       "      <td>9.913605</td>\n",
       "      <td>0.621534</td>\n",
       "      <td>0.993547</td>\n",
       "    </tr>\n",
       "    <tr>\n",
       "      <th>min</th>\n",
       "      <td>1.000000</td>\n",
       "      <td>0.000000</td>\n",
       "      <td>0.000000</td>\n",
       "      <td>0.000000</td>\n",
       "      <td>0.000000</td>\n",
       "      <td>0.000000</td>\n",
       "    </tr>\n",
       "    <tr>\n",
       "      <th>25%</th>\n",
       "      <td>35.000000</td>\n",
       "      <td>1.000000</td>\n",
       "      <td>0.000000</td>\n",
       "      <td>13.000000</td>\n",
       "      <td>0.000000</td>\n",
       "      <td>0.000000</td>\n",
       "    </tr>\n",
       "    <tr>\n",
       "      <th>50%</th>\n",
       "      <td>50.000000</td>\n",
       "      <td>1.000000</td>\n",
       "      <td>1.000000</td>\n",
       "      <td>19.000000</td>\n",
       "      <td>0.000000</td>\n",
       "      <td>2.000000</td>\n",
       "    </tr>\n",
       "    <tr>\n",
       "      <th>75%</th>\n",
       "      <td>50.000000</td>\n",
       "      <td>1.000000</td>\n",
       "      <td>1.000000</td>\n",
       "      <td>30.000000</td>\n",
       "      <td>0.000000</td>\n",
       "      <td>2.000000</td>\n",
       "    </tr>\n",
       "    <tr>\n",
       "      <th>max</th>\n",
       "      <td>99.000000</td>\n",
       "      <td>2.000000</td>\n",
       "      <td>2.000000</td>\n",
       "      <td>35.000000</td>\n",
       "      <td>2.000000</td>\n",
       "      <td>3.000000</td>\n",
       "    </tr>\n",
       "  </tbody>\n",
       "</table>\n",
       "</div>"
      ],
      "text/plain": [
       "                age     outcome_1      gender_1       state_1   age_group_1  \\\n",
       "count  99931.000000  99931.000000  99931.000000  99931.000000  99931.000000   \n",
       "mean      43.557785      1.129780      0.668471     20.004603      0.313726   \n",
       "std       16.360573      0.420312      0.470914      9.913605      0.621534   \n",
       "min        1.000000      0.000000      0.000000      0.000000      0.000000   \n",
       "25%       35.000000      1.000000      0.000000     13.000000      0.000000   \n",
       "50%       50.000000      1.000000      1.000000     19.000000      0.000000   \n",
       "75%       50.000000      1.000000      1.000000     30.000000      0.000000   \n",
       "max       99.000000      2.000000      2.000000     35.000000      2.000000   \n",
       "\n",
       "           source_1  \n",
       "count  99931.000000  \n",
       "mean       1.201629  \n",
       "std        0.993547  \n",
       "min        0.000000  \n",
       "25%        0.000000  \n",
       "50%        2.000000  \n",
       "75%        2.000000  \n",
       "max        3.000000  "
      ]
     },
     "execution_count": 4,
     "metadata": {},
     "output_type": "execute_result"
    }
   ],
   "source": [
    "df.describe()\n"
   ]
  },
  {
   "cell_type": "code",
   "execution_count": 5,
   "metadata": {},
   "outputs": [
    {
     "data": {
      "text/plain": [
       "<matplotlib.collections.PathCollection at 0x198ae428160>"
      ]
     },
     "execution_count": 5,
     "metadata": {},
     "output_type": "execute_result"
    },
    {
     "data": {
      "image/png": "[encoded data removed]",
      "text/plain": [
       "<Figure size 432x288 with 1 Axes>"
      ]
     },
     "metadata": {
      "needs_background": "light"
     },
     "output_type": "display_data"
    }
   ],
   "source": [
    "#Selecting State and age for attribute of interest\n",
    "plt.scatter(df['state_1'],df['age'])"
   ]
  },
  {
   "cell_type": "code",
   "execution_count": 6,
   "metadata": {},
   "outputs": [
    {
     "data": {
      "text/plain": [
       "array([[16., 20.],\n",
       "       [16.,  6.],\n",
       "       [16., 50.],\n",
       "       ...,\n",
       "       [13., 50.],\n",
       "       [28., 50.],\n",
       "       [28., 50.]])"
      ]
     },
     "execution_count": 6,
     "metadata": {},
     "output_type": "execute_result"
    }
   ],
   "source": [
    "#Taking input as stage and age column\n",
    "X=df.iloc[:,[3,0]].values\n",
    "X"
   ]
  },
  {
   "cell_type": "code",
   "execution_count": 7,
   "metadata": {},
   "outputs": [
    {
     "data": {
      "image/png": "[encoded data removed]",
      "text/plain": [
       "<Figure size 432x288 with 1 Axes>"
      ]
     },
     "metadata": {
      "needs_background": "light"
     },
     "output_type": "display_data"
    }
   ],
   "source": [
    "#Using the elbow method to find the optimal number of clusters\n",
    "#random_state=42 is used in sklearn to produce the same results across a different run.\n",
    "from sklearn.cluster import KMeans\n",
    "wcss=[] # within cluster sum of squares\n",
    "for i in range(1,11):\n",
    "    kmeans=KMeans(n_clusters=i,init='k-means++',random_state=42)\n",
    "    kmeans.fit(X)\n",
    "    wcss.append(kmeans.inertia_)\n",
    "\n",
    "plt.plot(range(1,11),wcss)\n",
    "plt.title('The Elbow Method')\n",
    "plt.xlabel('Number of Clusters')\n",
    "plt.ylabel('WCSS')\n",
    "plt.show()\n"
   ]
  },
  {
   "cell_type": "code",
   "execution_count": 8,
   "metadata": {},
   "outputs": [
    {
     "data": {
      "text/plain": [
       "array([1, 1, 0, ..., 0, 2, 2])"
      ]
     },
     "execution_count": 8,
     "metadata": {},
     "output_type": "execute_result"
    }
   ],
   "source": [
    "#Fitting K-Means to the dataset, taking no. of clusters as 3 since above curve has an elbow at value of 3\n",
    "kmeans=KMeans(n_clusters=3,init='k-means++',random_state=42)\n",
    "y_kmeans=kmeans.fit_predict(X)\n",
    "y_kmeans"
   ]
  },
  {
   "cell_type": "code",
   "execution_count": 9,
   "metadata": {},
   "outputs": [
    {
     "data": {
      "image/png": "[encoded data removed]",
      "text/plain": [
       "<Figure size 432x288 with 1 Axes>"
      ]
     },
     "metadata": {
      "needs_background": "light"
     },
     "output_type": "display_data"
    }
   ],
   "source": [
    "#Visualising the clusters\n",
    "plt.scatter(X[y_kmeans==0,0],X[y_kmeans==0,1],s=50,c='red',label='Cluster 1')\n",
    "plt.scatter(X[y_kmeans==1,0],X[y_kmeans==1,1],s=50,c='blue',label='Cluster 2')\n",
    "plt.scatter(X[y_kmeans==2,0],X[y_kmeans==2,1],s=50,c='green',label='Cluster 3')\n",
    "plt.scatter(kmeans.cluster_centers_[:,0],kmeans.cluster_centers_[:,1],s=50,c='yellow',label='Centroids')\n",
    "plt.title('Clusters of Patients')\n",
    "plt.xlabel('State')\n",
    "plt.ylabel('Age (1-100)')\n",
    "plt.legend()\n",
    "plt.show()          "
   ]
  },
  {
   "cell_type": "markdown",
   "metadata": {},
   "source": [
    "By above clustering, it is very different to interpret the clusters. Hence now we will try to use standard scalar, normalize and PCA functions for scaling and normalizing the data and reducing the dimesions within the data"
   ]
  },
  {
   "cell_type": "markdown",
   "metadata": {},
   "source": [
    "# Using standard scalar, Normalize and PCA with dataset\n"
   ]
  },
  {
   "cell_type": "code",
   "execution_count": 10,
   "metadata": {},
   "outputs": [
    {
     "name": "stderr",
     "output_type": "stream",
     "text": [
      "C:\\Users\\Harshit\\Anaconda3\\lib\\site-packages\\sklearn\\preprocessing\\data.py:645: DataConversionWarning: Data with input dtype int64, float64 were all converted to float64 by StandardScaler.\n",
      "  return self.partial_fit(X, y)\n",
      "C:\\Users\\Harshit\\Anaconda3\\lib\\site-packages\\sklearn\\base.py:464: DataConversionWarning: Data with input dtype int64, float64 were all converted to float64 by StandardScaler.\n",
      "  return self.fit(X, **fit_params).transform(X)\n"
     ]
    }
   ],
   "source": [
    "scaler = StandardScaler() \n",
    "scaled_df = scaler.fit_transform(df) "
   ]
  },
  {
   "cell_type": "code",
   "execution_count": 11,
   "metadata": {},
   "outputs": [
    {
     "name": "stdout",
     "output_type": "stream",
     "text": [
      "[[-1.43991919  2.07042359 -1.4195266  -0.40395229 -0.5047644   0.80356061]\n",
      " [-2.29563923  2.07042359  0.70401516 -0.40395229  2.7130986  -0.2029398 ]\n",
      " [ 0.39376661  2.07042359  0.70401516 -0.40395229 -0.5047644  -0.2029398 ]\n",
      " ...\n",
      " [ 0.39376661  2.07042359  0.70401516 -0.70656825 -0.5047644   0.80356061]\n",
      " [ 0.39376661  2.07042359  0.70401516  0.80651158 -0.5047644  -0.2029398 ]\n",
      " [ 0.39376661  2.07042359  0.70401516  0.80651158 -0.5047644  -0.2029398 ]]\n"
     ]
    }
   ],
   "source": [
    "print(scaled_df)"
   ]
  },
  {
   "cell_type": "code",
   "execution_count": 12,
   "metadata": {},
   "outputs": [],
   "source": [
    "# Normalizing the Data \n",
    "normalized_df = normalize(scaled_df) \n",
    "# Converting the numpy array into a pandas DataFrame \n",
    "normalized_df = pd.DataFrame(normalized_df)"
   ]
  },
  {
   "cell_type": "code",
   "execution_count": 13,
   "metadata": {},
   "outputs": [
    {
     "name": "stdout",
     "output_type": "stream",
     "text": [
      "              0         1         2         3         4         5\n",
      "0     -0.468685  0.673910 -0.462047 -0.131484 -0.164298  0.261554\n",
      "1     -0.546929  0.493272  0.167730 -0.096240  0.646388 -0.048350\n",
      "2      0.169505  0.891258  0.303058 -0.173890 -0.217287 -0.087360\n",
      "3      0.034438  0.808834  0.275032 -0.473063 -0.197192 -0.079281\n",
      "4     -0.429758  0.744320  0.253094  0.398733 -0.181463 -0.072957\n",
      "5      0.519554  0.691721  0.235209  0.235752  0.368898 -0.067801\n",
      "6      0.234747  0.694936 -0.476463 -0.304874  0.370613 -0.068117\n",
      "7      0.257851  0.763333  0.259559 -0.334881  0.407089 -0.074821\n",
      "8      0.234747  0.694936 -0.476463 -0.304874  0.370613 -0.068117\n",
      "9      0.257851  0.763333  0.259559 -0.334881  0.407089 -0.074821\n",
      "10     0.257851  0.763333  0.259559 -0.334881  0.407089 -0.074821\n",
      "11     0.257851  0.763333  0.259559 -0.334881  0.407089 -0.074821\n",
      "12     0.234747  0.694936 -0.476463 -0.304874  0.370613 -0.068117\n",
      "13     0.257851  0.763333  0.259559 -0.334881  0.407089 -0.074821\n",
      "14     0.257851  0.763333  0.259559 -0.334881  0.407089 -0.074821\n",
      "15     0.257851  0.763333  0.259559 -0.334881  0.407089 -0.074821\n",
      "16     0.234747  0.694936 -0.476463 -0.304874  0.370613 -0.068117\n",
      "17     0.257851  0.763333  0.259559 -0.334881  0.407089 -0.074821\n",
      "18     0.393090 -0.173546  0.395695 -0.510521  0.620602 -0.114063\n",
      "19     0.323119 -0.142654 -0.655831 -0.419647  0.510133 -0.093760\n",
      "20     0.494737  0.633771 -0.434527  0.216001  0.337993 -0.062121\n",
      "21     0.237003 -0.185845  0.423738  0.788997 -0.303811 -0.122147\n",
      "22     0.135291  0.711359 -0.487723  0.450391 -0.173428 -0.069726\n",
      "23     0.030554  0.717625 -0.492019  0.454358 -0.174955 -0.070341\n",
      "24     0.149346  0.785260  0.267016  0.497181 -0.191445 -0.076970\n",
      "25    -0.542684  0.667050  0.226820  0.422337 -0.162625 -0.065383\n",
      "26     0.190339 -0.149253 -0.686170  0.633648 -0.243993 -0.098097\n",
      "27    -0.593099 -0.079774  0.181889  0.338676  0.700954 -0.052431\n",
      "28    -0.550686 -0.168010  0.383072 -0.658896 -0.274655 -0.110425\n",
      "29     0.320890  0.703886  0.239345  0.445660  0.375386 -0.068994\n",
      "...         ...       ...       ...       ...       ...       ...\n",
      "99901  0.152523  0.801963  0.272695 -0.039252 -0.195517 -0.468468\n",
      "99902  0.137639  0.723705 -0.496187 -0.035422 -0.176438 -0.422753\n",
      "99903  0.152523  0.801963  0.272695 -0.039252 -0.195517 -0.468468\n",
      "99904  0.137639  0.723705 -0.496187 -0.035422 -0.176438 -0.422753\n",
      "99905 -0.528241  0.476417  0.161998 -0.023318  0.624300 -0.278300\n",
      "99906  0.391211 -0.766594  0.200782 -0.028901  0.314903 -0.344926\n",
      "99907  0.118066 -0.805956 -0.425629 -0.030385 -0.151348 -0.362637\n",
      "99908 -0.491394 -0.575373  0.150698 -0.021692  0.580753 -0.258887\n",
      "99909  0.118066 -0.805956 -0.425629 -0.030385 -0.151348 -0.362637\n",
      "99910  0.127063 -0.867372  0.227177 -0.032700 -0.162881 -0.390271\n",
      "99911  0.127063 -0.867372  0.227177 -0.032700 -0.162881 -0.390271\n",
      "99912  0.127063 -0.867372  0.227177 -0.032700 -0.162881 -0.390271\n",
      "99913  0.118066 -0.805956 -0.425629 -0.030385 -0.151348 -0.362637\n",
      "99914  0.127063 -0.867372  0.227177 -0.032700 -0.162881 -0.390271\n",
      "99915  0.118066 -0.805956 -0.425629 -0.030385 -0.151348 -0.362637\n",
      "99916  0.496407 -0.111739  0.254771 -0.657238  0.399579  0.290795\n",
      "99917 -0.554076 -0.074525  0.169921 -0.438349  0.654834  0.193948\n",
      "99918  0.144720  0.760939 -0.521716  0.296416 -0.185515 -0.074586\n",
      "99919  0.162335  0.853554  0.290238  0.332493 -0.208095 -0.083664\n",
      "99920  0.162335  0.853554  0.290238  0.332493 -0.208095 -0.083664\n",
      "99921  0.108458 -0.740365 -0.390990 -0.139047 -0.139031  0.498558\n",
      "99922  0.268812 -0.210788  0.480608 -0.482351 -0.344586  0.548564\n",
      "99923  0.623724 -0.140397  0.320114 -0.321275  0.502062  0.365377\n",
      "99924  0.268812 -0.210788  0.480608 -0.482351 -0.344586  0.548564\n",
      "99925  0.623724 -0.140397  0.320114 -0.321275  0.502062  0.365377\n",
      "99926  0.268812 -0.210788  0.480608 -0.482351 -0.344586  0.548564\n",
      "99927  0.422372  0.637506 -0.437088 -0.217560  0.339985  0.247425\n",
      "99928  0.156421  0.822460  0.279665 -0.280679 -0.200514  0.319208\n",
      "99929  0.162335  0.853554  0.290238  0.332493 -0.208095 -0.083664\n",
      "99930  0.162335  0.853554  0.290238  0.332493 -0.208095 -0.083664\n",
      "\n",
      "[99931 rows x 6 columns]\n"
     ]
    }
   ],
   "source": [
    "print(normalized_df)"
   ]
  },
  {
   "cell_type": "code",
   "execution_count": 35,
   "metadata": {},
   "outputs": [
    {
     "data": {
      "text/html": [
       "<div>\n",
       "<style scoped>\n",
       "    .dataframe tbody tr th:only-of-type {\n",
       "        vertical-align: middle;\n",
       "    }\n",
       "\n",
       "    .dataframe tbody tr th {\n",
       "        vertical-align: top;\n",
       "    }\n",
       "\n",
       "    .dataframe thead th {\n",
       "        text-align: right;\n",
       "    }\n",
       "</style>\n",
       "<table border=\"1\" class=\"dataframe\">\n",
       "  <thead>\n",
       "    <tr style=\"text-align: right;\">\n",
       "      <th></th>\n",
       "      <th>P1</th>\n",
       "      <th>P2</th>\n",
       "    </tr>\n",
       "  </thead>\n",
       "  <tbody>\n",
       "    <tr>\n",
       "      <th>0</th>\n",
       "      <td>0.543434</td>\n",
       "      <td>0.463299</td>\n",
       "    </tr>\n",
       "    <tr>\n",
       "      <th>1</th>\n",
       "      <td>-0.077533</td>\n",
       "      <td>0.594222</td>\n",
       "    </tr>\n",
       "    <tr>\n",
       "      <th>2</th>\n",
       "      <td>-0.272625</td>\n",
       "      <td>-0.108296</td>\n",
       "    </tr>\n",
       "    <tr>\n",
       "      <th>3</th>\n",
       "      <td>-0.233340</td>\n",
       "      <td>0.023937</td>\n",
       "    </tr>\n",
       "    <tr>\n",
       "      <th>4</th>\n",
       "      <td>-0.172448</td>\n",
       "      <td>0.484644</td>\n",
       "    </tr>\n",
       "    <tr>\n",
       "      <th>5</th>\n",
       "      <td>-0.234450</td>\n",
       "      <td>-0.462810</td>\n",
       "    </tr>\n",
       "    <tr>\n",
       "      <th>6</th>\n",
       "      <td>0.498650</td>\n",
       "      <td>-0.238853</td>\n",
       "    </tr>\n",
       "    <tr>\n",
       "      <th>7</th>\n",
       "      <td>-0.236709</td>\n",
       "      <td>-0.199986</td>\n",
       "    </tr>\n",
       "    <tr>\n",
       "      <th>8</th>\n",
       "      <td>0.498650</td>\n",
       "      <td>-0.238853</td>\n",
       "    </tr>\n",
       "    <tr>\n",
       "      <th>9</th>\n",
       "      <td>-0.236709</td>\n",
       "      <td>-0.199986</td>\n",
       "    </tr>\n",
       "  </tbody>\n",
       "</table>\n",
       "</div>"
      ],
      "text/plain": [
       "         P1        P2\n",
       "0  0.543434  0.463299\n",
       "1 -0.077533  0.594222\n",
       "2 -0.272625 -0.108296\n",
       "3 -0.233340  0.023937\n",
       "4 -0.172448  0.484644\n",
       "5 -0.234450 -0.462810\n",
       "6  0.498650 -0.238853\n",
       "7 -0.236709 -0.199986\n",
       "8  0.498650 -0.238853\n",
       "9 -0.236709 -0.199986"
      ]
     },
     "execution_count": 35,
     "metadata": {},
     "output_type": "execute_result"
    }
   ],
   "source": [
    "# Reducing the dimensions of the data by using PCA\n",
    "pca = PCA(n_components = 2) \n",
    "pca = pca.fit(normalized_df[[2,0]]) \n",
    "X_principal = pca.transform(normalized_df[[2,0]])\n",
    "X_principal = pd.DataFrame(X_principal) \n",
    "X_principal.columns = ['P1', 'P2'] \n",
    "X_principal.head(10)"
   ]
  },
  {
   "cell_type": "code",
   "execution_count": 36,
   "metadata": {},
   "outputs": [
    {
     "data": {
      "text/plain": [
       "<matplotlib.collections.PathCollection at 0x198b53a0a20>"
      ]
     },
     "execution_count": 36,
     "metadata": {},
     "output_type": "execute_result"
    },
    {
     "data": {
      "image/png": "[encoded data removed]",
      "text/plain": [
       "<Figure size 432x288 with 1 Axes>"
      ]
     },
     "metadata": {
      "needs_background": "light"
     },
     "output_type": "display_data"
    }
   ],
   "source": [
    "plt.scatter(X_principal['P1'], X_principal['P2'])"
   ]
  },
  {
   "cell_type": "code",
   "execution_count": 37,
   "metadata": {},
   "outputs": [
    {
     "data": {
      "image/png": "[encoded data removed]",
      "text/plain": [
       "<Figure size 432x288 with 1 Axes>"
      ]
     },
     "metadata": {
      "needs_background": "light"
     },
     "output_type": "display_data"
    }
   ],
   "source": [
    "#Using the elbow method to find the optimal number of clusters\n",
    "sse = {}\n",
    "for k in range(1, 10):\n",
    "    kmeans = KMeans(n_clusters=k, max_iter=1000).fit(X_principal)\n",
    "    sse[k] = kmeans.inertia_ # Inertia: Sum of distances of samples to their closest cluster center\n",
    "plt.figure()\n",
    "plt.plot(list(sse.keys()), list(sse.values()))\n",
    "plt.xlabel(\"Number of cluster\")\n",
    "plt.ylabel(\"SSE\")\n",
    "plt.show()\n"
   ]
  },
  {
   "cell_type": "code",
   "execution_count": 40,
   "metadata": {},
   "outputs": [
    {
     "data": {
      "text/plain": [
       "KMeans(algorithm='auto', copy_x=True, init='k-means++', max_iter=300,\n",
       "    n_clusters=2, n_init=10, n_jobs=None, precompute_distances='auto',\n",
       "    random_state=None, tol=0.0001, verbose=0)"
      ]
     },
     "execution_count": 40,
     "metadata": {},
     "output_type": "execute_result"
    }
   ],
   "source": [
    "kmeans = KMeans(n_clusters=2)\n",
    "y_kmeans=kmeans.fit(X_principal)\n",
    "y_kmeans"
   ]
  },
  {
   "cell_type": "code",
   "execution_count": 41,
   "metadata": {},
   "outputs": [
    {
     "data": {
      "image/png": "[encoded data removed]",
      "text/plain": [
       "<Figure size 432x288 with 1 Axes>"
      ]
     },
     "metadata": {
      "needs_background": "light"
     },
     "output_type": "display_data"
    }
   ],
   "source": [
    "# Visualizing the clustering \n",
    "plt.scatter(X_principal['P1'], X_principal['P2'],  \n",
    "           c = KMeans(n_clusters = 2).fit_predict(X_principal), cmap =plt.cm.winter) \n",
    "plt.scatter(kmeans.cluster_centers_[:,0],kmeans.cluster_centers_[:,1],s=50,c='yellow',label='Centroids')\n",
    "\n",
    "plt.show() "
   ]
  },
  {
   "cell_type": "markdown",
   "metadata": {},
   "source": [
    "Here 2 clusters are formed. ( Male and Female) and Yellow point represents the centroids of the clusters"
   ]
  },
  {
   "cell_type": "code",
   "execution_count": 43,
   "metadata": {},
   "outputs": [
    {
     "data": {
      "text/plain": [
       "array([[-0.30854037,  0.02110623],\n",
       "       [ 0.62192249, -0.04254368]])"
      ]
     },
     "execution_count": 43,
     "metadata": {},
     "output_type": "execute_result"
    }
   ],
   "source": [
    "#Centroids x and y co-ordinates\n",
    "kmeans.cluster_centers_\n"
   ]
  },
  {
   "cell_type": "code",
   "execution_count": 44,
   "metadata": {},
   "outputs": [
    {
     "name": "stdout",
     "output_type": "stream",
     "text": [
      "0.5840534137311163\n"
     ]
    }
   ],
   "source": [
    "from sklearn.metrics import silhouette_score\n",
    "\n",
    "print(silhouette_score(X_principal, kmeans.labels_))\n",
    "\n",
    "#The silhouette value is a measure of how similar an object is to its own cluster (cohesion) compared to other clusters (separation). Since silhouette score is postive, we can say that objects is well matched to its own cluster and poorly matched to neighbouring clusters"
   ]
  }
 ],
 "metadata": {
  "kernelspec": {
   "display_name": "Python 3",
   "language": "python",
   "name": "python3"
  },
  "language_info": {
   "codemirror_mode": {
    "name": "ipython",
    "version": 3
   },
   "file_extension": ".py",
   "mimetype": "text/x-python",
   "name": "python",
   "nbconvert_exporter": "python",
   "pygments_lexer": "ipython3",
   "version": "3.7.1"
  }
 },
 "nbformat": 4,
 "nbformat_minor": 2
}
